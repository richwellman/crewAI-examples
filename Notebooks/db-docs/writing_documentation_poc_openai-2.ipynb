{
 "cells": [
  {
   "cell_type": "code",
   "execution_count": 2,
   "id": "gcdo0cwAxAOZ",
   "metadata": {
    "colab": {
     "base_uri": "https://localhost:8080/"
    },
    "executionInfo": {
     "elapsed": 918,
     "status": "ok",
     "timestamp": 1736106993420,
     "user": {
      "displayName": "Richard Wellman",
      "userId": "02933736804070866344"
     },
     "user_tz": 300
    },
    "id": "gcdo0cwAxAOZ",
    "outputId": "3b274e10-cfaf-4043-e690-3a405ac32d68"
   },
   "outputs": [
    {
     "name": "stdout",
     "output_type": "stream",
     "text": [
      "Collecting duckdb\n",
      "  Using cached duckdb-1.1.3-cp312-cp312-manylinux_2_17_x86_64.manylinux2014_x86_64.whl.metadata (762 bytes)\n",
      "Requirement already satisfied: agentops in /workspaces/crewAI-examples/crewenv/lib/python3.12/site-packages (0.3.21)\n",
      "Requirement already satisfied: requests<3.0.0,>=2.0.0 in /workspaces/crewAI-examples/crewenv/lib/python3.12/site-packages (from agentops) (2.32.3)\n",
      "Requirement already satisfied: psutil<6.1.0,>=5.9.8 in /workspaces/crewAI-examples/crewenv/lib/python3.12/site-packages (from agentops) (6.0.0)\n",
      "Requirement already satisfied: termcolor<2.5.0,>=2.3.0 in /workspaces/crewAI-examples/crewenv/lib/python3.12/site-packages (from agentops) (2.4.0)\n",
      "Requirement already satisfied: PyYAML<7.0,>=5.3 in /workspaces/crewAI-examples/crewenv/lib/python3.12/site-packages (from agentops) (6.0.2)\n",
      "Requirement already satisfied: opentelemetry-api<2.0.0,>=1.22.0 in /workspaces/crewAI-examples/crewenv/lib/python3.12/site-packages (from agentops) (1.29.0)\n",
      "Requirement already satisfied: opentelemetry-sdk<2.0.0,>=1.22.0 in /workspaces/crewAI-examples/crewenv/lib/python3.12/site-packages (from agentops) (1.29.0)\n",
      "Requirement already satisfied: opentelemetry-exporter-otlp-proto-http<2.0.0,>=1.22.0 in /workspaces/crewAI-examples/crewenv/lib/python3.12/site-packages (from agentops) (1.29.0)\n",
      "Requirement already satisfied: deprecated>=1.2.6 in /workspaces/crewAI-examples/crewenv/lib/python3.12/site-packages (from opentelemetry-api<2.0.0,>=1.22.0->agentops) (1.2.15)\n",
      "Requirement already satisfied: importlib-metadata<=8.5.0,>=6.0 in /workspaces/crewAI-examples/crewenv/lib/python3.12/site-packages (from opentelemetry-api<2.0.0,>=1.22.0->agentops) (8.5.0)\n",
      "Requirement already satisfied: googleapis-common-protos~=1.52 in /workspaces/crewAI-examples/crewenv/lib/python3.12/site-packages (from opentelemetry-exporter-otlp-proto-http<2.0.0,>=1.22.0->agentops) (1.66.0)\n",
      "Requirement already satisfied: opentelemetry-exporter-otlp-proto-common==1.29.0 in /workspaces/crewAI-examples/crewenv/lib/python3.12/site-packages (from opentelemetry-exporter-otlp-proto-http<2.0.0,>=1.22.0->agentops) (1.29.0)\n",
      "Requirement already satisfied: opentelemetry-proto==1.29.0 in /workspaces/crewAI-examples/crewenv/lib/python3.12/site-packages (from opentelemetry-exporter-otlp-proto-http<2.0.0,>=1.22.0->agentops) (1.29.0)\n",
      "Requirement already satisfied: protobuf<6.0,>=5.0 in /workspaces/crewAI-examples/crewenv/lib/python3.12/site-packages (from opentelemetry-proto==1.29.0->opentelemetry-exporter-otlp-proto-http<2.0.0,>=1.22.0->agentops) (5.29.2)\n",
      "Requirement already satisfied: opentelemetry-semantic-conventions==0.50b0 in /workspaces/crewAI-examples/crewenv/lib/python3.12/site-packages (from opentelemetry-sdk<2.0.0,>=1.22.0->agentops) (0.50b0)\n",
      "Requirement already satisfied: typing-extensions>=3.7.4 in /workspaces/crewAI-examples/crewenv/lib/python3.12/site-packages (from opentelemetry-sdk<2.0.0,>=1.22.0->agentops) (4.12.2)\n",
      "Requirement already satisfied: charset-normalizer<4,>=2 in /workspaces/crewAI-examples/crewenv/lib/python3.12/site-packages (from requests<3.0.0,>=2.0.0->agentops) (3.4.1)\n",
      "Requirement already satisfied: idna<4,>=2.5 in /workspaces/crewAI-examples/crewenv/lib/python3.12/site-packages (from requests<3.0.0,>=2.0.0->agentops) (3.10)\n",
      "Requirement already satisfied: urllib3<3,>=1.21.1 in /workspaces/crewAI-examples/crewenv/lib/python3.12/site-packages (from requests<3.0.0,>=2.0.0->agentops) (2.3.0)\n",
      "Requirement already satisfied: certifi>=2017.4.17 in /workspaces/crewAI-examples/crewenv/lib/python3.12/site-packages (from requests<3.0.0,>=2.0.0->agentops) (2024.12.14)\n",
      "Requirement already satisfied: wrapt<2,>=1.10 in /workspaces/crewAI-examples/crewenv/lib/python3.12/site-packages (from deprecated>=1.2.6->opentelemetry-api<2.0.0,>=1.22.0->agentops) (1.17.0)\n",
      "Requirement already satisfied: zipp>=3.20 in /workspaces/crewAI-examples/crewenv/lib/python3.12/site-packages (from importlib-metadata<=8.5.0,>=6.0->opentelemetry-api<2.0.0,>=1.22.0->agentops) (3.21.0)\n",
      "Downloading duckdb-1.1.3-cp312-cp312-manylinux_2_17_x86_64.manylinux2014_x86_64.whl (20.2 MB)\n",
      "\u001b[2K   \u001b[90m━━━━━━━━━━━━━━━━━━━━━━━━━━━━━━━━━━━━━━━━\u001b[0m \u001b[32m20.2/20.2 MB\u001b[0m \u001b[31m51.8 MB/s\u001b[0m eta \u001b[36m0:00:00\u001b[0m:00:01\u001b[0m\n",
      "\u001b[?25hInstalling collected packages: duckdb\n",
      "Successfully installed duckdb-1.1.3\n",
      "Note: you may need to restart the kernel to use updated packages.\n"
     ]
    }
   ],
   "source": [
    "%pip install duckdb agentops"
   ]
  },
  {
   "cell_type": "code",
   "execution_count": 3,
   "id": "LjWYCRHxxNlU",
   "metadata": {
    "executionInfo": {
     "elapsed": 241,
     "status": "ok",
     "timestamp": 1736107212226,
     "user": {
      "displayName": "Richard Wellman",
      "userId": "02933736804070866344"
     },
     "user_tz": 300
    },
    "id": "LjWYCRHxxNlU"
   },
   "outputs": [],
   "source": [
    "import duckdb\n"
   ]
  },
  {
   "cell_type": "code",
   "execution_count": 39,
   "id": "905uwsd9xOvP",
   "metadata": {
    "colab": {
     "base_uri": "https://localhost:8080/"
    },
    "executionInfo": {
     "elapsed": 151,
     "status": "ok",
     "timestamp": 1736108223339,
     "user": {
      "displayName": "Richard Wellman",
      "userId": "02933736804070866344"
     },
     "user_tz": 300
    },
    "id": "905uwsd9xOvP",
    "outputId": "2db8387a-07f6-4714-bf2a-17041835e6f8"
   },
   "outputs": [
    {
     "ename": "CatalogException",
     "evalue": "Catalog Error: Table with name \"netflix\" already exists!",
     "output_type": "error",
     "traceback": [
      "\u001b[0;31m---------------------------------------------------------------------------\u001b[0m",
      "\u001b[0;31mCatalogException\u001b[0m                          Traceback (most recent call last)",
      "\u001b[1;32m/workspaces/crewAI-examples/Notebooks/db-docs/writing_documentation_poc_openai-2.ipynb Cell 3\u001b[0m line \u001b[0;36m1\n\u001b[0;32m----> <a href='vscode-notebook-cell://codespaces%2Blegendary-meme-wr6xwjvvxc9gp9/workspaces/crewAI-examples/Notebooks/db-docs/writing_documentation_poc_openai-2.ipynb#W2sdnNjb2RlLXJlbW90ZQ%3D%3D?line=0'>1</a>\u001b[0m duckdb\u001b[39m.\u001b[39;49msql(\u001b[39m\"\u001b[39;49m\u001b[39mcreate table netflix as SELECT * FROM read_csv(\u001b[39;49m\u001b[39m'\u001b[39;49m\u001b[39m./data/netflix_titles.csv\u001b[39;49m\u001b[39m'\u001b[39;49m\u001b[39m)\u001b[39;49m\u001b[39m\"\u001b[39;49m)\n\u001b[1;32m      <a href='vscode-notebook-cell://codespaces%2Blegendary-meme-wr6xwjvvxc9gp9/workspaces/crewAI-examples/Notebooks/db-docs/writing_documentation_poc_openai-2.ipynb#W2sdnNjb2RlLXJlbW90ZQ%3D%3D?line=2'>3</a>\u001b[0m \u001b[39m#output = duckdb.sql(\"describe netflix\")\u001b[39;00m\n\u001b[1;32m      <a href='vscode-notebook-cell://codespaces%2Blegendary-meme-wr6xwjvvxc9gp9/workspaces/crewAI-examples/Notebooks/db-docs/writing_documentation_poc_openai-2.ipynb#W2sdnNjb2RlLXJlbW90ZQ%3D%3D?line=4'>5</a>\u001b[0m \u001b[39mprint\u001b[39m(output)\n",
      "\u001b[0;31mCatalogException\u001b[0m: Catalog Error: Table with name \"netflix\" already exists!"
     ]
    }
   ],
   "source": [
    "duckdb.sql(\"create table netflix as SELECT * FROM read_csv('./data/netflix_titles.csv')\")\n",
    "\n",
    "#output = duckdb.sql(\"describe netflix\")\n",
    "\n",
    "print(output)\n"
   ]
  },
  {
   "cell_type": "code",
   "execution_count": null,
   "id": "8084aa44",
   "metadata": {},
   "outputs": [
    {
     "name": "stdout",
     "output_type": "stream",
     "text": [
      "Requirement already satisfied: crewai[tools] in /workspaces/crewAI-examples/crewenv/lib/python3.12/site-packages (0.86.0)\n",
      "Requirement already satisfied: appdirs>=1.4.4 in /workspaces/crewAI-examples/crewenv/lib/python3.12/site-packages (from crewai[tools]) (1.4.4)\n",
      "Requirement already satisfied: auth0-python>=4.7.1 in /workspaces/crewAI-examples/crewenv/lib/python3.12/site-packages (from crewai[tools]) (4.7.2)\n",
      "Requirement already satisfied: chromadb>=0.5.18 in /workspaces/crewAI-examples/crewenv/lib/python3.12/site-packages (from crewai[tools]) (0.5.20)\n",
      "Requirement already satisfied: click>=8.1.7 in /workspaces/crewAI-examples/crewenv/lib/python3.12/site-packages (from crewai[tools]) (8.1.8)\n",
      "Requirement already satisfied: crewai-tools>=0.17.0 in /workspaces/crewAI-examples/crewenv/lib/python3.12/site-packages (from crewai[tools]) (0.17.0)\n",
      "Requirement already satisfied: instructor>=1.3.3 in /workspaces/crewAI-examples/crewenv/lib/python3.12/site-packages (from crewai[tools]) (1.7.2)\n",
      "Requirement already satisfied: json-repair>=0.25.2 in /workspaces/crewAI-examples/crewenv/lib/python3.12/site-packages (from crewai[tools]) (0.34.0)\n",
      "Requirement already satisfied: jsonref>=1.1.0 in /workspaces/crewAI-examples/crewenv/lib/python3.12/site-packages (from crewai[tools]) (1.1.0)\n",
      "Requirement already satisfied: litellm>=1.44.22 in /workspaces/crewAI-examples/crewenv/lib/python3.12/site-packages (from crewai[tools]) (1.55.12)\n",
      "Requirement already satisfied: openai>=1.13.3 in /workspaces/crewAI-examples/crewenv/lib/python3.12/site-packages (from crewai[tools]) (1.58.1)\n",
      "Requirement already satisfied: openpyxl>=3.1.5 in /workspaces/crewAI-examples/crewenv/lib/python3.12/site-packages (from crewai[tools]) (3.1.5)\n",
      "Requirement already satisfied: opentelemetry-api>=1.22.0 in /workspaces/crewAI-examples/crewenv/lib/python3.12/site-packages (from crewai[tools]) (1.29.0)\n",
      "Requirement already satisfied: opentelemetry-exporter-otlp-proto-http>=1.22.0 in /workspaces/crewAI-examples/crewenv/lib/python3.12/site-packages (from crewai[tools]) (1.29.0)\n",
      "Requirement already satisfied: opentelemetry-sdk>=1.22.0 in /workspaces/crewAI-examples/crewenv/lib/python3.12/site-packages (from crewai[tools]) (1.29.0)\n",
      "Requirement already satisfied: pdfplumber>=0.11.4 in /workspaces/crewAI-examples/crewenv/lib/python3.12/site-packages (from crewai[tools]) (0.11.4)\n",
      "Requirement already satisfied: pydantic>=2.4.2 in /workspaces/crewAI-examples/crewenv/lib/python3.12/site-packages (from crewai[tools]) (2.10.4)\n",
      "Requirement already satisfied: python-dotenv>=1.0.0 in /workspaces/crewAI-examples/crewenv/lib/python3.12/site-packages (from crewai[tools]) (1.0.1)\n",
      "Requirement already satisfied: pyvis>=0.3.2 in /workspaces/crewAI-examples/crewenv/lib/python3.12/site-packages (from crewai[tools]) (0.3.2)\n",
      "Requirement already satisfied: regex>=2024.9.11 in /workspaces/crewAI-examples/crewenv/lib/python3.12/site-packages (from crewai[tools]) (2024.11.6)\n",
      "Requirement already satisfied: tomli-w>=1.1.0 in /workspaces/crewAI-examples/crewenv/lib/python3.12/site-packages (from crewai[tools]) (1.1.0)\n",
      "Requirement already satisfied: tomli>=2.0.2 in /workspaces/crewAI-examples/crewenv/lib/python3.12/site-packages (from crewai[tools]) (2.2.1)\n",
      "Requirement already satisfied: uv>=0.4.25 in /workspaces/crewAI-examples/crewenv/lib/python3.12/site-packages (from crewai[tools]) (0.5.12)\n",
      "Requirement already satisfied: aiohttp<4.0.0,>=3.8.5 in /workspaces/crewAI-examples/crewenv/lib/python3.12/site-packages (from auth0-python>=4.7.1->crewai[tools]) (3.11.11)\n",
      "Requirement already satisfied: cryptography<44.0.0,>=43.0.1 in /workspaces/crewAI-examples/crewenv/lib/python3.12/site-packages (from auth0-python>=4.7.1->crewai[tools]) (43.0.3)\n",
      "Requirement already satisfied: pyjwt<3.0.0,>=2.8.0 in /workspaces/crewAI-examples/crewenv/lib/python3.12/site-packages (from auth0-python>=4.7.1->crewai[tools]) (2.10.1)\n",
      "Requirement already satisfied: requests<3.0.0,>=2.31.0 in /workspaces/crewAI-examples/crewenv/lib/python3.12/site-packages (from auth0-python>=4.7.1->crewai[tools]) (2.32.3)\n",
      "Requirement already satisfied: urllib3<3.0.0,>=2.0.7 in /workspaces/crewAI-examples/crewenv/lib/python3.12/site-packages (from auth0-python>=4.7.1->crewai[tools]) (2.3.0)\n",
      "Requirement already satisfied: build>=1.0.3 in /workspaces/crewAI-examples/crewenv/lib/python3.12/site-packages (from chromadb>=0.5.18->crewai[tools]) (1.2.2.post1)\n",
      "Requirement already satisfied: chroma-hnswlib==0.7.6 in /workspaces/crewAI-examples/crewenv/lib/python3.12/site-packages (from chromadb>=0.5.18->crewai[tools]) (0.7.6)\n",
      "Requirement already satisfied: fastapi>=0.95.2 in /workspaces/crewAI-examples/crewenv/lib/python3.12/site-packages (from chromadb>=0.5.18->crewai[tools]) (0.115.6)\n",
      "Requirement already satisfied: uvicorn>=0.18.3 in /workspaces/crewAI-examples/crewenv/lib/python3.12/site-packages (from uvicorn[standard]>=0.18.3->chromadb>=0.5.18->crewai[tools]) (0.34.0)\n",
      "Requirement already satisfied: numpy>=1.22.5 in /workspaces/crewAI-examples/crewenv/lib/python3.12/site-packages (from chromadb>=0.5.18->crewai[tools]) (2.2.0)\n",
      "Requirement already satisfied: posthog>=2.4.0 in /workspaces/crewAI-examples/crewenv/lib/python3.12/site-packages (from chromadb>=0.5.18->crewai[tools]) (3.7.4)\n",
      "Requirement already satisfied: typing-extensions>=4.5.0 in /workspaces/crewAI-examples/crewenv/lib/python3.12/site-packages (from chromadb>=0.5.18->crewai[tools]) (4.12.2)\n",
      "Requirement already satisfied: onnxruntime>=1.14.1 in /workspaces/crewAI-examples/crewenv/lib/python3.12/site-packages (from chromadb>=0.5.18->crewai[tools]) (1.20.1)\n",
      "Requirement already satisfied: opentelemetry-exporter-otlp-proto-grpc>=1.2.0 in /workspaces/crewAI-examples/crewenv/lib/python3.12/site-packages (from chromadb>=0.5.18->crewai[tools]) (1.29.0)\n",
      "Requirement already satisfied: opentelemetry-instrumentation-fastapi>=0.41b0 in /workspaces/crewAI-examples/crewenv/lib/python3.12/site-packages (from chromadb>=0.5.18->crewai[tools]) (0.50b0)\n",
      "Requirement already satisfied: tokenizers>=0.13.2 in /workspaces/crewAI-examples/crewenv/lib/python3.12/site-packages (from chromadb>=0.5.18->crewai[tools]) (0.21.0)\n",
      "Requirement already satisfied: pypika>=0.48.9 in /workspaces/crewAI-examples/crewenv/lib/python3.12/site-packages (from chromadb>=0.5.18->crewai[tools]) (0.48.9)\n",
      "Requirement already satisfied: tqdm>=4.65.0 in /workspaces/crewAI-examples/crewenv/lib/python3.12/site-packages (from chromadb>=0.5.18->crewai[tools]) (4.67.1)\n",
      "Requirement already satisfied: overrides>=7.3.1 in /workspaces/crewAI-examples/crewenv/lib/python3.12/site-packages (from chromadb>=0.5.18->crewai[tools]) (7.7.0)\n",
      "Requirement already satisfied: importlib-resources in /workspaces/crewAI-examples/crewenv/lib/python3.12/site-packages (from chromadb>=0.5.18->crewai[tools]) (6.4.5)\n",
      "Requirement already satisfied: grpcio>=1.58.0 in /workspaces/crewAI-examples/crewenv/lib/python3.12/site-packages (from chromadb>=0.5.18->crewai[tools]) (1.68.1)\n",
      "Requirement already satisfied: bcrypt>=4.0.1 in /workspaces/crewAI-examples/crewenv/lib/python3.12/site-packages (from chromadb>=0.5.18->crewai[tools]) (4.2.1)\n",
      "Requirement already satisfied: typer>=0.9.0 in /workspaces/crewAI-examples/crewenv/lib/python3.12/site-packages (from chromadb>=0.5.18->crewai[tools]) (0.15.1)\n",
      "Requirement already satisfied: kubernetes>=28.1.0 in /workspaces/crewAI-examples/crewenv/lib/python3.12/site-packages (from chromadb>=0.5.18->crewai[tools]) (31.0.0)\n",
      "Requirement already satisfied: tenacity>=8.2.3 in /workspaces/crewAI-examples/crewenv/lib/python3.12/site-packages (from chromadb>=0.5.18->crewai[tools]) (9.0.0)\n",
      "Requirement already satisfied: PyYAML>=6.0.0 in /workspaces/crewAI-examples/crewenv/lib/python3.12/site-packages (from chromadb>=0.5.18->crewai[tools]) (6.0.2)\n",
      "Requirement already satisfied: mmh3>=4.0.1 in /workspaces/crewAI-examples/crewenv/lib/python3.12/site-packages (from chromadb>=0.5.18->crewai[tools]) (5.0.1)\n",
      "Requirement already satisfied: orjson>=3.9.12 in /workspaces/crewAI-examples/crewenv/lib/python3.12/site-packages (from chromadb>=0.5.18->crewai[tools]) (3.10.12)\n",
      "Requirement already satisfied: httpx>=0.27.0 in /workspaces/crewAI-examples/crewenv/lib/python3.12/site-packages (from chromadb>=0.5.18->crewai[tools]) (0.27.2)\n",
      "Requirement already satisfied: rich>=10.11.0 in /workspaces/crewAI-examples/crewenv/lib/python3.12/site-packages (from chromadb>=0.5.18->crewai[tools]) (13.9.4)\n",
      "Requirement already satisfied: beautifulsoup4>=4.12.3 in /workspaces/crewAI-examples/crewenv/lib/python3.12/site-packages (from crewai-tools>=0.17.0->crewai[tools]) (4.12.3)\n",
      "Requirement already satisfied: docker>=7.1.0 in /workspaces/crewAI-examples/crewenv/lib/python3.12/site-packages (from crewai-tools>=0.17.0->crewai[tools]) (7.1.0)\n",
      "Requirement already satisfied: docx2txt>=0.8 in /workspaces/crewAI-examples/crewenv/lib/python3.12/site-packages (from crewai-tools>=0.17.0->crewai[tools]) (0.8)\n",
      "Requirement already satisfied: embedchain>=0.1.114 in /workspaces/crewAI-examples/crewenv/lib/python3.12/site-packages (from crewai-tools>=0.17.0->crewai[tools]) (0.1.125)\n",
      "Requirement already satisfied: lancedb>=0.5.4 in /workspaces/crewAI-examples/crewenv/lib/python3.12/site-packages (from crewai-tools>=0.17.0->crewai[tools]) (0.17.0)\n",
      "Requirement already satisfied: pyright>=1.1.350 in /workspaces/crewAI-examples/crewenv/lib/python3.12/site-packages (from crewai-tools>=0.17.0->crewai[tools]) (1.1.391)\n",
      "Requirement already satisfied: pytest>=8.0.0 in /workspaces/crewAI-examples/crewenv/lib/python3.12/site-packages (from crewai-tools>=0.17.0->crewai[tools]) (8.3.4)\n",
      "Requirement already satisfied: pytube>=15.0.0 in /workspaces/crewAI-examples/crewenv/lib/python3.12/site-packages (from crewai-tools>=0.17.0->crewai[tools]) (15.0.0)\n",
      "Requirement already satisfied: selenium>=4.18.1 in /workspaces/crewAI-examples/crewenv/lib/python3.12/site-packages (from crewai-tools>=0.17.0->crewai[tools]) (4.27.1)\n",
      "Requirement already satisfied: docstring-parser<1.0,>=0.16 in /workspaces/crewAI-examples/crewenv/lib/python3.12/site-packages (from instructor>=1.3.3->crewai[tools]) (0.16)\n",
      "Requirement already satisfied: jinja2<4.0.0,>=3.1.4 in /workspaces/crewAI-examples/crewenv/lib/python3.12/site-packages (from instructor>=1.3.3->crewai[tools]) (3.1.5)\n",
      "Requirement already satisfied: jiter<0.9,>=0.6.1 in /workspaces/crewAI-examples/crewenv/lib/python3.12/site-packages (from instructor>=1.3.3->crewai[tools]) (0.8.2)\n",
      "Requirement already satisfied: pydantic-core<3.0.0,>=2.18.0 in /workspaces/crewAI-examples/crewenv/lib/python3.12/site-packages (from instructor>=1.3.3->crewai[tools]) (2.27.2)\n",
      "Requirement already satisfied: importlib-metadata>=6.8.0 in /workspaces/crewAI-examples/crewenv/lib/python3.12/site-packages (from litellm>=1.44.22->crewai[tools]) (8.5.0)\n",
      "Requirement already satisfied: jsonschema<5.0.0,>=4.22.0 in /workspaces/crewAI-examples/crewenv/lib/python3.12/site-packages (from litellm>=1.44.22->crewai[tools]) (4.23.0)\n",
      "Requirement already satisfied: tiktoken>=0.7.0 in /workspaces/crewAI-examples/crewenv/lib/python3.12/site-packages (from litellm>=1.44.22->crewai[tools]) (0.7.0)\n",
      "Requirement already satisfied: anyio<5,>=3.5.0 in /workspaces/crewAI-examples/crewenv/lib/python3.12/site-packages (from openai>=1.13.3->crewai[tools]) (4.7.0)\n",
      "Requirement already satisfied: distro<2,>=1.7.0 in /workspaces/crewAI-examples/crewenv/lib/python3.12/site-packages (from openai>=1.13.3->crewai[tools]) (1.9.0)\n",
      "Requirement already satisfied: sniffio in /workspaces/crewAI-examples/crewenv/lib/python3.12/site-packages (from openai>=1.13.3->crewai[tools]) (1.3.1)\n",
      "Requirement already satisfied: et-xmlfile in /workspaces/crewAI-examples/crewenv/lib/python3.12/site-packages (from openpyxl>=3.1.5->crewai[tools]) (2.0.0)\n",
      "Requirement already satisfied: deprecated>=1.2.6 in /workspaces/crewAI-examples/crewenv/lib/python3.12/site-packages (from opentelemetry-api>=1.22.0->crewai[tools]) (1.2.15)\n",
      "Requirement already satisfied: googleapis-common-protos~=1.52 in /workspaces/crewAI-examples/crewenv/lib/python3.12/site-packages (from opentelemetry-exporter-otlp-proto-http>=1.22.0->crewai[tools]) (1.66.0)\n",
      "Requirement already satisfied: opentelemetry-exporter-otlp-proto-common==1.29.0 in /workspaces/crewAI-examples/crewenv/lib/python3.12/site-packages (from opentelemetry-exporter-otlp-proto-http>=1.22.0->crewai[tools]) (1.29.0)\n",
      "Requirement already satisfied: opentelemetry-proto==1.29.0 in /workspaces/crewAI-examples/crewenv/lib/python3.12/site-packages (from opentelemetry-exporter-otlp-proto-http>=1.22.0->crewai[tools]) (1.29.0)\n",
      "Requirement already satisfied: protobuf<6.0,>=5.0 in /workspaces/crewAI-examples/crewenv/lib/python3.12/site-packages (from opentelemetry-proto==1.29.0->opentelemetry-exporter-otlp-proto-http>=1.22.0->crewai[tools]) (5.29.2)\n",
      "Requirement already satisfied: opentelemetry-semantic-conventions==0.50b0 in /workspaces/crewAI-examples/crewenv/lib/python3.12/site-packages (from opentelemetry-sdk>=1.22.0->crewai[tools]) (0.50b0)\n",
      "Requirement already satisfied: pdfminer.six==20231228 in /workspaces/crewAI-examples/crewenv/lib/python3.12/site-packages (from pdfplumber>=0.11.4->crewai[tools]) (20231228)\n",
      "Requirement already satisfied: Pillow>=9.1 in /workspaces/crewAI-examples/crewenv/lib/python3.12/site-packages (from pdfplumber>=0.11.4->crewai[tools]) (11.0.0)\n",
      "Requirement already satisfied: pypdfium2>=4.18.0 in /workspaces/crewAI-examples/crewenv/lib/python3.12/site-packages (from pdfplumber>=0.11.4->crewai[tools]) (4.30.1)\n",
      "Requirement already satisfied: charset-normalizer>=2.0.0 in /workspaces/crewAI-examples/crewenv/lib/python3.12/site-packages (from pdfminer.six==20231228->pdfplumber>=0.11.4->crewai[tools]) (3.4.1)\n",
      "Requirement already satisfied: annotated-types>=0.6.0 in /workspaces/crewAI-examples/crewenv/lib/python3.12/site-packages (from pydantic>=2.4.2->crewai[tools]) (0.7.0)\n",
      "Requirement already satisfied: ipython>=5.3.0 in /workspaces/crewAI-examples/crewenv/lib/python3.12/site-packages (from pyvis>=0.3.2->crewai[tools]) (8.31.0)\n",
      "Requirement already satisfied: jsonpickle>=1.4.1 in /workspaces/crewAI-examples/crewenv/lib/python3.12/site-packages (from pyvis>=0.3.2->crewai[tools]) (4.0.1)\n",
      "Requirement already satisfied: networkx>=1.11 in /workspaces/crewAI-examples/crewenv/lib/python3.12/site-packages (from pyvis>=0.3.2->crewai[tools]) (3.4.2)\n",
      "Requirement already satisfied: aiohappyeyeballs>=2.3.0 in /workspaces/crewAI-examples/crewenv/lib/python3.12/site-packages (from aiohttp<4.0.0,>=3.8.5->auth0-python>=4.7.1->crewai[tools]) (2.4.4)\n",
      "Requirement already satisfied: aiosignal>=1.1.2 in /workspaces/crewAI-examples/crewenv/lib/python3.12/site-packages (from aiohttp<4.0.0,>=3.8.5->auth0-python>=4.7.1->crewai[tools]) (1.3.2)\n",
      "Requirement already satisfied: attrs>=17.3.0 in /workspaces/crewAI-examples/crewenv/lib/python3.12/site-packages (from aiohttp<4.0.0,>=3.8.5->auth0-python>=4.7.1->crewai[tools]) (24.3.0)\n",
      "Requirement already satisfied: frozenlist>=1.1.1 in /workspaces/crewAI-examples/crewenv/lib/python3.12/site-packages (from aiohttp<4.0.0,>=3.8.5->auth0-python>=4.7.1->crewai[tools]) (1.5.0)\n",
      "Requirement already satisfied: multidict<7.0,>=4.5 in /workspaces/crewAI-examples/crewenv/lib/python3.12/site-packages (from aiohttp<4.0.0,>=3.8.5->auth0-python>=4.7.1->crewai[tools]) (6.1.0)\n",
      "Requirement already satisfied: propcache>=0.2.0 in /workspaces/crewAI-examples/crewenv/lib/python3.12/site-packages (from aiohttp<4.0.0,>=3.8.5->auth0-python>=4.7.1->crewai[tools]) (0.2.1)\n",
      "Requirement already satisfied: yarl<2.0,>=1.17.0 in /workspaces/crewAI-examples/crewenv/lib/python3.12/site-packages (from aiohttp<4.0.0,>=3.8.5->auth0-python>=4.7.1->crewai[tools]) (1.18.3)\n",
      "Requirement already satisfied: idna>=2.8 in /workspaces/crewAI-examples/crewenv/lib/python3.12/site-packages (from anyio<5,>=3.5.0->openai>=1.13.3->crewai[tools]) (3.10)\n",
      "Requirement already satisfied: soupsieve>1.2 in /workspaces/crewAI-examples/crewenv/lib/python3.12/site-packages (from beautifulsoup4>=4.12.3->crewai-tools>=0.17.0->crewai[tools]) (2.6)\n",
      "Requirement already satisfied: packaging>=19.1 in /workspaces/crewAI-examples/crewenv/lib/python3.12/site-packages (from build>=1.0.3->chromadb>=0.5.18->crewai[tools]) (24.2)\n",
      "Requirement already satisfied: pyproject_hooks in /workspaces/crewAI-examples/crewenv/lib/python3.12/site-packages (from build>=1.0.3->chromadb>=0.5.18->crewai[tools]) (1.2.0)\n",
      "Requirement already satisfied: cffi>=1.12 in /workspaces/crewAI-examples/crewenv/lib/python3.12/site-packages (from cryptography<44.0.0,>=43.0.1->auth0-python>=4.7.1->crewai[tools]) (1.17.1)\n",
      "Requirement already satisfied: wrapt<2,>=1.10 in /workspaces/crewAI-examples/crewenv/lib/python3.12/site-packages (from deprecated>=1.2.6->opentelemetry-api>=1.22.0->crewai[tools]) (1.17.0)\n",
      "Requirement already satisfied: alembic<2.0.0,>=1.13.1 in /workspaces/crewAI-examples/crewenv/lib/python3.12/site-packages (from embedchain>=0.1.114->crewai-tools>=0.17.0->crewai[tools]) (1.14.0)\n",
      "Requirement already satisfied: cohere<6.0,>=5.3 in /workspaces/crewAI-examples/crewenv/lib/python3.12/site-packages (from embedchain>=0.1.114->crewai-tools>=0.17.0->crewai[tools]) (5.13.4)\n",
      "Requirement already satisfied: google-cloud-aiplatform<2.0.0,>=1.26.1 in /workspaces/crewAI-examples/crewenv/lib/python3.12/site-packages (from embedchain>=0.1.114->crewai-tools>=0.17.0->crewai[tools]) (1.75.0)\n",
      "Requirement already satisfied: gptcache<0.2.0,>=0.1.43 in /workspaces/crewAI-examples/crewenv/lib/python3.12/site-packages (from embedchain>=0.1.114->crewai-tools>=0.17.0->crewai[tools]) (0.1.44)\n",
      "Requirement already satisfied: langchain<0.4.0,>=0.3.1 in /workspaces/crewAI-examples/crewenv/lib/python3.12/site-packages (from embedchain>=0.1.114->crewai-tools>=0.17.0->crewai[tools]) (0.3.13)\n",
      "Requirement already satisfied: langchain-cohere<0.4.0,>=0.3.0 in /workspaces/crewAI-examples/crewenv/lib/python3.12/site-packages (from embedchain>=0.1.114->crewai-tools>=0.17.0->crewai[tools]) (0.3.4)\n",
      "Requirement already satisfied: langchain-community<0.4.0,>=0.3.1 in /workspaces/crewAI-examples/crewenv/lib/python3.12/site-packages (from embedchain>=0.1.114->crewai-tools>=0.17.0->crewai[tools]) (0.3.13)\n",
      "Requirement already satisfied: langchain-openai<0.3.0,>=0.2.1 in /workspaces/crewAI-examples/crewenv/lib/python3.12/site-packages (from embedchain>=0.1.114->crewai-tools>=0.17.0->crewai[tools]) (0.2.14)\n",
      "Requirement already satisfied: langsmith<0.2.0,>=0.1.17 in /workspaces/crewAI-examples/crewenv/lib/python3.12/site-packages (from embedchain>=0.1.114->crewai-tools>=0.17.0->crewai[tools]) (0.1.147)\n",
      "Requirement already satisfied: mem0ai<0.2.0,>=0.1.29 in /workspaces/crewAI-examples/crewenv/lib/python3.12/site-packages (from embedchain>=0.1.114->crewai-tools>=0.17.0->crewai[tools]) (0.1.36)\n",
      "Requirement already satisfied: pypdf<6.0.0,>=5.0.0 in /workspaces/crewAI-examples/crewenv/lib/python3.12/site-packages (from embedchain>=0.1.114->crewai-tools>=0.17.0->crewai[tools]) (5.1.0)\n",
      "Requirement already satisfied: pysbd<0.4.0,>=0.3.4 in /workspaces/crewAI-examples/crewenv/lib/python3.12/site-packages (from embedchain>=0.1.114->crewai-tools>=0.17.0->crewai[tools]) (0.3.4)\n",
      "Requirement already satisfied: schema<0.8.0,>=0.7.5 in /workspaces/crewAI-examples/crewenv/lib/python3.12/site-packages (from embedchain>=0.1.114->crewai-tools>=0.17.0->crewai[tools]) (0.7.7)\n",
      "Requirement already satisfied: sqlalchemy<3.0.0,>=2.0.27 in /workspaces/crewAI-examples/crewenv/lib/python3.12/site-packages (from embedchain>=0.1.114->crewai-tools>=0.17.0->crewai[tools]) (2.0.36)\n",
      "Requirement already satisfied: starlette<0.42.0,>=0.40.0 in /workspaces/crewAI-examples/crewenv/lib/python3.12/site-packages (from fastapi>=0.95.2->chromadb>=0.5.18->crewai[tools]) (0.41.3)\n",
      "Requirement already satisfied: certifi in /workspaces/crewAI-examples/crewenv/lib/python3.12/site-packages (from httpx>=0.27.0->chromadb>=0.5.18->crewai[tools]) (2024.12.14)\n",
      "Requirement already satisfied: httpcore==1.* in /workspaces/crewAI-examples/crewenv/lib/python3.12/site-packages (from httpx>=0.27.0->chromadb>=0.5.18->crewai[tools]) (1.0.7)\n",
      "Requirement already satisfied: h11<0.15,>=0.13 in /workspaces/crewAI-examples/crewenv/lib/python3.12/site-packages (from httpcore==1.*->httpx>=0.27.0->chromadb>=0.5.18->crewai[tools]) (0.14.0)\n",
      "Requirement already satisfied: zipp>=3.20 in /workspaces/crewAI-examples/crewenv/lib/python3.12/site-packages (from importlib-metadata>=6.8.0->litellm>=1.44.22->crewai[tools]) (3.21.0)\n",
      "Requirement already satisfied: decorator in /workspaces/crewAI-examples/crewenv/lib/python3.12/site-packages (from ipython>=5.3.0->pyvis>=0.3.2->crewai[tools]) (5.1.1)\n",
      "Requirement already satisfied: jedi>=0.16 in /workspaces/crewAI-examples/crewenv/lib/python3.12/site-packages (from ipython>=5.3.0->pyvis>=0.3.2->crewai[tools]) (0.19.2)\n",
      "Requirement already satisfied: matplotlib-inline in /workspaces/crewAI-examples/crewenv/lib/python3.12/site-packages (from ipython>=5.3.0->pyvis>=0.3.2->crewai[tools]) (0.1.7)\n",
      "Requirement already satisfied: pexpect>4.3 in /workspaces/crewAI-examples/crewenv/lib/python3.12/site-packages (from ipython>=5.3.0->pyvis>=0.3.2->crewai[tools]) (4.9.0)\n",
      "Requirement already satisfied: prompt_toolkit<3.1.0,>=3.0.41 in /workspaces/crewAI-examples/crewenv/lib/python3.12/site-packages (from ipython>=5.3.0->pyvis>=0.3.2->crewai[tools]) (3.0.48)\n",
      "Requirement already satisfied: pygments>=2.4.0 in /workspaces/crewAI-examples/crewenv/lib/python3.12/site-packages (from ipython>=5.3.0->pyvis>=0.3.2->crewai[tools]) (2.18.0)\n",
      "Requirement already satisfied: stack_data in /workspaces/crewAI-examples/crewenv/lib/python3.12/site-packages (from ipython>=5.3.0->pyvis>=0.3.2->crewai[tools]) (0.6.3)\n",
      "Requirement already satisfied: traitlets>=5.13.0 in /workspaces/crewAI-examples/crewenv/lib/python3.12/site-packages (from ipython>=5.3.0->pyvis>=0.3.2->crewai[tools]) (5.14.3)\n",
      "Requirement already satisfied: MarkupSafe>=2.0 in /workspaces/crewAI-examples/crewenv/lib/python3.12/site-packages (from jinja2<4.0.0,>=3.1.4->instructor>=1.3.3->crewai[tools]) (3.0.2)\n",
      "Requirement already satisfied: jsonschema-specifications>=2023.03.6 in /workspaces/crewAI-examples/crewenv/lib/python3.12/site-packages (from jsonschema<5.0.0,>=4.22.0->litellm>=1.44.22->crewai[tools]) (2024.10.1)\n",
      "Requirement already satisfied: referencing>=0.28.4 in /workspaces/crewAI-examples/crewenv/lib/python3.12/site-packages (from jsonschema<5.0.0,>=4.22.0->litellm>=1.44.22->crewai[tools]) (0.35.1)\n",
      "Requirement already satisfied: rpds-py>=0.7.1 in /workspaces/crewAI-examples/crewenv/lib/python3.12/site-packages (from jsonschema<5.0.0,>=4.22.0->litellm>=1.44.22->crewai[tools]) (0.22.3)\n",
      "Requirement already satisfied: six>=1.9.0 in /workspaces/crewAI-examples/crewenv/lib/python3.12/site-packages (from kubernetes>=28.1.0->chromadb>=0.5.18->crewai[tools]) (1.17.0)\n",
      "Requirement already satisfied: python-dateutil>=2.5.3 in /workspaces/crewAI-examples/crewenv/lib/python3.12/site-packages (from kubernetes>=28.1.0->chromadb>=0.5.18->crewai[tools]) (2.9.0.post0)\n",
      "Requirement already satisfied: google-auth>=1.0.1 in /workspaces/crewAI-examples/crewenv/lib/python3.12/site-packages (from kubernetes>=28.1.0->chromadb>=0.5.18->crewai[tools]) (2.37.0)\n",
      "Requirement already satisfied: websocket-client!=0.40.0,!=0.41.*,!=0.42.*,>=0.32.0 in /workspaces/crewAI-examples/crewenv/lib/python3.12/site-packages (from kubernetes>=28.1.0->chromadb>=0.5.18->crewai[tools]) (1.8.0)\n",
      "Requirement already satisfied: requests-oauthlib in /workspaces/crewAI-examples/crewenv/lib/python3.12/site-packages (from kubernetes>=28.1.0->chromadb>=0.5.18->crewai[tools]) (2.0.0)\n",
      "Requirement already satisfied: oauthlib>=3.2.2 in /workspaces/crewAI-examples/crewenv/lib/python3.12/site-packages (from kubernetes>=28.1.0->chromadb>=0.5.18->crewai[tools]) (3.2.2)\n",
      "Requirement already satisfied: durationpy>=0.7 in /workspaces/crewAI-examples/crewenv/lib/python3.12/site-packages (from kubernetes>=28.1.0->chromadb>=0.5.18->crewai[tools]) (0.9)\n",
      "Requirement already satisfied: deprecation in /workspaces/crewAI-examples/crewenv/lib/python3.12/site-packages (from lancedb>=0.5.4->crewai-tools>=0.17.0->crewai[tools]) (2.1.0)\n",
      "Requirement already satisfied: pylance==0.20.0 in /workspaces/crewAI-examples/crewenv/lib/python3.12/site-packages (from lancedb>=0.5.4->crewai-tools>=0.17.0->crewai[tools]) (0.20.0)\n",
      "Requirement already satisfied: pyarrow>=14 in /workspaces/crewAI-examples/crewenv/lib/python3.12/site-packages (from pylance==0.20.0->lancedb>=0.5.4->crewai-tools>=0.17.0->crewai[tools]) (18.1.0)\n",
      "Requirement already satisfied: coloredlogs in /workspaces/crewAI-examples/crewenv/lib/python3.12/site-packages (from onnxruntime>=1.14.1->chromadb>=0.5.18->crewai[tools]) (15.0.1)\n",
      "Requirement already satisfied: flatbuffers in /workspaces/crewAI-examples/crewenv/lib/python3.12/site-packages (from onnxruntime>=1.14.1->chromadb>=0.5.18->crewai[tools]) (24.12.23)\n",
      "Requirement already satisfied: sympy in /workspaces/crewAI-examples/crewenv/lib/python3.12/site-packages (from onnxruntime>=1.14.1->chromadb>=0.5.18->crewai[tools]) (1.13.3)\n",
      "Requirement already satisfied: opentelemetry-instrumentation-asgi==0.50b0 in /workspaces/crewAI-examples/crewenv/lib/python3.12/site-packages (from opentelemetry-instrumentation-fastapi>=0.41b0->chromadb>=0.5.18->crewai[tools]) (0.50b0)\n",
      "Requirement already satisfied: opentelemetry-instrumentation==0.50b0 in /workspaces/crewAI-examples/crewenv/lib/python3.12/site-packages (from opentelemetry-instrumentation-fastapi>=0.41b0->chromadb>=0.5.18->crewai[tools]) (0.50b0)\n",
      "Requirement already satisfied: opentelemetry-util-http==0.50b0 in /workspaces/crewAI-examples/crewenv/lib/python3.12/site-packages (from opentelemetry-instrumentation-fastapi>=0.41b0->chromadb>=0.5.18->crewai[tools]) (0.50b0)\n",
      "Requirement already satisfied: asgiref~=3.0 in /workspaces/crewAI-examples/crewenv/lib/python3.12/site-packages (from opentelemetry-instrumentation-asgi==0.50b0->opentelemetry-instrumentation-fastapi>=0.41b0->chromadb>=0.5.18->crewai[tools]) (3.8.1)\n",
      "Requirement already satisfied: monotonic>=1.5 in /workspaces/crewAI-examples/crewenv/lib/python3.12/site-packages (from posthog>=2.4.0->chromadb>=0.5.18->crewai[tools]) (1.6)\n",
      "Requirement already satisfied: backoff>=1.10.0 in /workspaces/crewAI-examples/crewenv/lib/python3.12/site-packages (from posthog>=2.4.0->chromadb>=0.5.18->crewai[tools]) (2.2.1)\n",
      "Requirement already satisfied: nodeenv>=1.6.0 in /workspaces/crewAI-examples/crewenv/lib/python3.12/site-packages (from pyright>=1.1.350->crewai-tools>=0.17.0->crewai[tools]) (1.9.1)\n",
      "Requirement already satisfied: iniconfig in /workspaces/crewAI-examples/crewenv/lib/python3.12/site-packages (from pytest>=8.0.0->crewai-tools>=0.17.0->crewai[tools]) (2.0.0)\n",
      "Requirement already satisfied: pluggy<2,>=1.5 in /workspaces/crewAI-examples/crewenv/lib/python3.12/site-packages (from pytest>=8.0.0->crewai-tools>=0.17.0->crewai[tools]) (1.5.0)\n",
      "Requirement already satisfied: markdown-it-py>=2.2.0 in /workspaces/crewAI-examples/crewenv/lib/python3.12/site-packages (from rich>=10.11.0->chromadb>=0.5.18->crewai[tools]) (3.0.0)\n",
      "Requirement already satisfied: trio~=0.17 in /workspaces/crewAI-examples/crewenv/lib/python3.12/site-packages (from selenium>=4.18.1->crewai-tools>=0.17.0->crewai[tools]) (0.28.0)\n",
      "Requirement already satisfied: trio-websocket~=0.9 in /workspaces/crewAI-examples/crewenv/lib/python3.12/site-packages (from selenium>=4.18.1->crewai-tools>=0.17.0->crewai[tools]) (0.11.1)\n",
      "Requirement already satisfied: huggingface-hub<1.0,>=0.16.4 in /workspaces/crewAI-examples/crewenv/lib/python3.12/site-packages (from tokenizers>=0.13.2->chromadb>=0.5.18->crewai[tools]) (0.27.0)\n",
      "Requirement already satisfied: shellingham>=1.3.0 in /workspaces/crewAI-examples/crewenv/lib/python3.12/site-packages (from typer>=0.9.0->chromadb>=0.5.18->crewai[tools]) (1.5.4)\n",
      "Requirement already satisfied: httptools>=0.6.3 in /workspaces/crewAI-examples/crewenv/lib/python3.12/site-packages (from uvicorn[standard]>=0.18.3->chromadb>=0.5.18->crewai[tools]) (0.6.4)\n",
      "Requirement already satisfied: uvloop!=0.15.0,!=0.15.1,>=0.14.0 in /workspaces/crewAI-examples/crewenv/lib/python3.12/site-packages (from uvicorn[standard]>=0.18.3->chromadb>=0.5.18->crewai[tools]) (0.21.0)\n",
      "Requirement already satisfied: watchfiles>=0.13 in /workspaces/crewAI-examples/crewenv/lib/python3.12/site-packages (from uvicorn[standard]>=0.18.3->chromadb>=0.5.18->crewai[tools]) (1.0.3)\n",
      "Requirement already satisfied: websockets>=10.4 in /workspaces/crewAI-examples/crewenv/lib/python3.12/site-packages (from uvicorn[standard]>=0.18.3->chromadb>=0.5.18->crewai[tools]) (14.1)\n",
      "Requirement already satisfied: Mako in /workspaces/crewAI-examples/crewenv/lib/python3.12/site-packages (from alembic<2.0.0,>=1.13.1->embedchain>=0.1.114->crewai-tools>=0.17.0->crewai[tools]) (1.3.8)\n",
      "Requirement already satisfied: pycparser in /workspaces/crewAI-examples/crewenv/lib/python3.12/site-packages (from cffi>=1.12->cryptography<44.0.0,>=43.0.1->auth0-python>=4.7.1->crewai[tools]) (2.22)\n",
      "Requirement already satisfied: fastavro<2.0.0,>=1.9.4 in /workspaces/crewAI-examples/crewenv/lib/python3.12/site-packages (from cohere<6.0,>=5.3->embedchain>=0.1.114->crewai-tools>=0.17.0->crewai[tools]) (1.10.0)\n",
      "Requirement already satisfied: httpx-sse==0.4.0 in /workspaces/crewAI-examples/crewenv/lib/python3.12/site-packages (from cohere<6.0,>=5.3->embedchain>=0.1.114->crewai-tools>=0.17.0->crewai[tools]) (0.4.0)\n",
      "Requirement already satisfied: parameterized<0.10.0,>=0.9.0 in /workspaces/crewAI-examples/crewenv/lib/python3.12/site-packages (from cohere<6.0,>=5.3->embedchain>=0.1.114->crewai-tools>=0.17.0->crewai[tools]) (0.9.0)\n",
      "Requirement already satisfied: types-requests<3.0.0,>=2.0.0 in /workspaces/crewAI-examples/crewenv/lib/python3.12/site-packages (from cohere<6.0,>=5.3->embedchain>=0.1.114->crewai-tools>=0.17.0->crewai[tools]) (2.32.0.20241016)\n",
      "Requirement already satisfied: cachetools<6.0,>=2.0.0 in /workspaces/crewAI-examples/crewenv/lib/python3.12/site-packages (from google-auth>=1.0.1->kubernetes>=28.1.0->chromadb>=0.5.18->crewai[tools]) (5.5.0)\n",
      "Requirement already satisfied: pyasn1-modules>=0.2.1 in /workspaces/crewAI-examples/crewenv/lib/python3.12/site-packages (from google-auth>=1.0.1->kubernetes>=28.1.0->chromadb>=0.5.18->crewai[tools]) (0.4.1)\n",
      "Requirement already satisfied: rsa<5,>=3.1.4 in /workspaces/crewAI-examples/crewenv/lib/python3.12/site-packages (from google-auth>=1.0.1->kubernetes>=28.1.0->chromadb>=0.5.18->crewai[tools]) (4.9)\n",
      "Requirement already satisfied: google-api-core!=2.0.*,!=2.1.*,!=2.2.*,!=2.3.*,!=2.4.*,!=2.5.*,!=2.6.*,!=2.7.*,<3.0.0dev,>=1.34.1 in /workspaces/crewAI-examples/crewenv/lib/python3.12/site-packages (from google-api-core[grpc]!=2.0.*,!=2.1.*,!=2.2.*,!=2.3.*,!=2.4.*,!=2.5.*,!=2.6.*,!=2.7.*,<3.0.0dev,>=1.34.1->google-cloud-aiplatform<2.0.0,>=1.26.1->embedchain>=0.1.114->crewai-tools>=0.17.0->crewai[tools]) (2.24.0)\n",
      "Requirement already satisfied: proto-plus<2.0.0dev,>=1.22.3 in /workspaces/crewAI-examples/crewenv/lib/python3.12/site-packages (from google-cloud-aiplatform<2.0.0,>=1.26.1->embedchain>=0.1.114->crewai-tools>=0.17.0->crewai[tools]) (1.25.0)\n",
      "Requirement already satisfied: google-cloud-storage<3.0.0dev,>=1.32.0 in /workspaces/crewAI-examples/crewenv/lib/python3.12/site-packages (from google-cloud-aiplatform<2.0.0,>=1.26.1->embedchain>=0.1.114->crewai-tools>=0.17.0->crewai[tools]) (2.19.0)\n",
      "Requirement already satisfied: google-cloud-bigquery!=3.20.0,<4.0.0dev,>=1.15.0 in /workspaces/crewAI-examples/crewenv/lib/python3.12/site-packages (from google-cloud-aiplatform<2.0.0,>=1.26.1->embedchain>=0.1.114->crewai-tools>=0.17.0->crewai[tools]) (3.27.0)\n",
      "Requirement already satisfied: google-cloud-resource-manager<3.0.0dev,>=1.3.3 in /workspaces/crewAI-examples/crewenv/lib/python3.12/site-packages (from google-cloud-aiplatform<2.0.0,>=1.26.1->embedchain>=0.1.114->crewai-tools>=0.17.0->crewai[tools]) (1.14.0)\n",
      "Requirement already satisfied: shapely<3.0.0dev in /workspaces/crewAI-examples/crewenv/lib/python3.12/site-packages (from google-cloud-aiplatform<2.0.0,>=1.26.1->embedchain>=0.1.114->crewai-tools>=0.17.0->crewai[tools]) (2.0.6)\n",
      "Requirement already satisfied: filelock in /workspaces/crewAI-examples/crewenv/lib/python3.12/site-packages (from huggingface-hub<1.0,>=0.16.4->tokenizers>=0.13.2->chromadb>=0.5.18->crewai[tools]) (3.16.1)\n",
      "Requirement already satisfied: fsspec>=2023.5.0 in /workspaces/crewAI-examples/crewenv/lib/python3.12/site-packages (from huggingface-hub<1.0,>=0.16.4->tokenizers>=0.13.2->chromadb>=0.5.18->crewai[tools]) (2024.12.0)\n",
      "Requirement already satisfied: parso<0.9.0,>=0.8.4 in /workspaces/crewAI-examples/crewenv/lib/python3.12/site-packages (from jedi>=0.16->ipython>=5.3.0->pyvis>=0.3.2->crewai[tools]) (0.8.4)\n",
      "Requirement already satisfied: langchain-core<0.4.0,>=0.3.26 in /workspaces/crewAI-examples/crewenv/lib/python3.12/site-packages (from langchain<0.4.0,>=0.3.1->embedchain>=0.1.114->crewai-tools>=0.17.0->crewai[tools]) (0.3.28)\n",
      "Requirement already satisfied: langchain-text-splitters<0.4.0,>=0.3.3 in /workspaces/crewAI-examples/crewenv/lib/python3.12/site-packages (from langchain<0.4.0,>=0.3.1->embedchain>=0.1.114->crewai-tools>=0.17.0->crewai[tools]) (0.3.4)\n",
      "Requirement already satisfied: langchain-experimental<0.4.0,>=0.3.0 in /workspaces/crewAI-examples/crewenv/lib/python3.12/site-packages (from langchain-cohere<0.4.0,>=0.3.0->embedchain>=0.1.114->crewai-tools>=0.17.0->crewai[tools]) (0.3.4)\n",
      "Requirement already satisfied: pandas>=1.4.3 in /workspaces/crewAI-examples/crewenv/lib/python3.12/site-packages (from langchain-cohere<0.4.0,>=0.3.0->embedchain>=0.1.114->crewai-tools>=0.17.0->crewai[tools]) (2.2.3)\n",
      "Requirement already satisfied: tabulate<0.10.0,>=0.9.0 in /workspaces/crewAI-examples/crewenv/lib/python3.12/site-packages (from langchain-cohere<0.4.0,>=0.3.0->embedchain>=0.1.114->crewai-tools>=0.17.0->crewai[tools]) (0.9.0)\n",
      "Requirement already satisfied: dataclasses-json<0.7,>=0.5.7 in /workspaces/crewAI-examples/crewenv/lib/python3.12/site-packages (from langchain-community<0.4.0,>=0.3.1->embedchain>=0.1.114->crewai-tools>=0.17.0->crewai[tools]) (0.6.7)\n",
      "Requirement already satisfied: pydantic-settings<3.0.0,>=2.4.0 in /workspaces/crewAI-examples/crewenv/lib/python3.12/site-packages (from langchain-community<0.4.0,>=0.3.1->embedchain>=0.1.114->crewai-tools>=0.17.0->crewai[tools]) (2.7.0)\n",
      "Requirement already satisfied: requests-toolbelt<2.0.0,>=1.0.0 in /workspaces/crewAI-examples/crewenv/lib/python3.12/site-packages (from langsmith<0.2.0,>=0.1.17->embedchain>=0.1.114->crewai-tools>=0.17.0->crewai[tools]) (1.0.0)\n",
      "Requirement already satisfied: mdurl~=0.1 in /workspaces/crewAI-examples/crewenv/lib/python3.12/site-packages (from markdown-it-py>=2.2.0->rich>=10.11.0->chromadb>=0.5.18->crewai[tools]) (0.1.2)\n",
      "Requirement already satisfied: pytz<2025.0,>=2024.1 in /workspaces/crewAI-examples/crewenv/lib/python3.12/site-packages (from mem0ai<0.2.0,>=0.1.29->embedchain>=0.1.114->crewai-tools>=0.17.0->crewai[tools]) (2024.2)\n",
      "Requirement already satisfied: qdrant-client<2.0.0,>=1.9.1 in /workspaces/crewAI-examples/crewenv/lib/python3.12/site-packages (from mem0ai<0.2.0,>=0.1.29->embedchain>=0.1.114->crewai-tools>=0.17.0->crewai[tools]) (1.12.1)\n",
      "Requirement already satisfied: ptyprocess>=0.5 in /workspaces/crewAI-examples/crewenv/lib/python3.12/site-packages (from pexpect>4.3->ipython>=5.3.0->pyvis>=0.3.2->crewai[tools]) (0.7.0)\n",
      "Requirement already satisfied: wcwidth in /workspaces/crewAI-examples/crewenv/lib/python3.12/site-packages (from prompt_toolkit<3.1.0,>=3.0.41->ipython>=5.3.0->pyvis>=0.3.2->crewai[tools]) (0.2.13)\n",
      "Requirement already satisfied: greenlet!=0.4.17 in /workspaces/crewAI-examples/crewenv/lib/python3.12/site-packages (from sqlalchemy<3.0.0,>=2.0.27->embedchain>=0.1.114->crewai-tools>=0.17.0->crewai[tools]) (3.1.1)\n",
      "Requirement already satisfied: sortedcontainers in /workspaces/crewAI-examples/crewenv/lib/python3.12/site-packages (from trio~=0.17->selenium>=4.18.1->crewai-tools>=0.17.0->crewai[tools]) (2.4.0)\n",
      "Requirement already satisfied: outcome in /workspaces/crewAI-examples/crewenv/lib/python3.12/site-packages (from trio~=0.17->selenium>=4.18.1->crewai-tools>=0.17.0->crewai[tools]) (1.3.0.post0)\n",
      "Requirement already satisfied: wsproto>=0.14 in /workspaces/crewAI-examples/crewenv/lib/python3.12/site-packages (from trio-websocket~=0.9->selenium>=4.18.1->crewai-tools>=0.17.0->crewai[tools]) (1.2.0)\n",
      "Requirement already satisfied: pysocks!=1.5.7,<2.0,>=1.5.6 in /workspaces/crewAI-examples/crewenv/lib/python3.12/site-packages (from urllib3[socks]<3,>=1.26->selenium>=4.18.1->crewai-tools>=0.17.0->crewai[tools]) (1.7.1)\n",
      "Requirement already satisfied: humanfriendly>=9.1 in /workspaces/crewAI-examples/crewenv/lib/python3.12/site-packages (from coloredlogs->onnxruntime>=1.14.1->chromadb>=0.5.18->crewai[tools]) (10.0)\n",
      "Requirement already satisfied: executing>=1.2.0 in /workspaces/crewAI-examples/crewenv/lib/python3.12/site-packages (from stack_data->ipython>=5.3.0->pyvis>=0.3.2->crewai[tools]) (2.1.0)\n",
      "Requirement already satisfied: asttokens>=2.1.0 in /workspaces/crewAI-examples/crewenv/lib/python3.12/site-packages (from stack_data->ipython>=5.3.0->pyvis>=0.3.2->crewai[tools]) (3.0.0)\n",
      "Requirement already satisfied: pure-eval in /workspaces/crewAI-examples/crewenv/lib/python3.12/site-packages (from stack_data->ipython>=5.3.0->pyvis>=0.3.2->crewai[tools]) (0.2.3)\n",
      "Requirement already satisfied: mpmath<1.4,>=1.1.0 in /workspaces/crewAI-examples/crewenv/lib/python3.12/site-packages (from sympy->onnxruntime>=1.14.1->chromadb>=0.5.18->crewai[tools]) (1.3.0)\n",
      "Requirement already satisfied: marshmallow<4.0.0,>=3.18.0 in /workspaces/crewAI-examples/crewenv/lib/python3.12/site-packages (from dataclasses-json<0.7,>=0.5.7->langchain-community<0.4.0,>=0.3.1->embedchain>=0.1.114->crewai-tools>=0.17.0->crewai[tools]) (3.23.2)\n",
      "Requirement already satisfied: typing-inspect<1,>=0.4.0 in /workspaces/crewAI-examples/crewenv/lib/python3.12/site-packages (from dataclasses-json<0.7,>=0.5.7->langchain-community<0.4.0,>=0.3.1->embedchain>=0.1.114->crewai-tools>=0.17.0->crewai[tools]) (0.9.0)\n",
      "Requirement already satisfied: grpcio-status<2.0.dev0,>=1.33.2 in /workspaces/crewAI-examples/crewenv/lib/python3.12/site-packages (from google-api-core[grpc]!=2.0.*,!=2.1.*,!=2.2.*,!=2.3.*,!=2.4.*,!=2.5.*,!=2.6.*,!=2.7.*,<3.0.0dev,>=1.34.1->google-cloud-aiplatform<2.0.0,>=1.26.1->embedchain>=0.1.114->crewai-tools>=0.17.0->crewai[tools]) (1.68.1)\n",
      "Requirement already satisfied: google-cloud-core<3.0.0dev,>=2.4.1 in /workspaces/crewAI-examples/crewenv/lib/python3.12/site-packages (from google-cloud-bigquery!=3.20.0,<4.0.0dev,>=1.15.0->google-cloud-aiplatform<2.0.0,>=1.26.1->embedchain>=0.1.114->crewai-tools>=0.17.0->crewai[tools]) (2.4.1)\n",
      "Requirement already satisfied: google-resumable-media<3.0dev,>=2.0.0 in /workspaces/crewAI-examples/crewenv/lib/python3.12/site-packages (from google-cloud-bigquery!=3.20.0,<4.0.0dev,>=1.15.0->google-cloud-aiplatform<2.0.0,>=1.26.1->embedchain>=0.1.114->crewai-tools>=0.17.0->crewai[tools]) (2.7.2)\n",
      "Requirement already satisfied: grpc-google-iam-v1<1.0.0dev,>=0.12.4 in /workspaces/crewAI-examples/crewenv/lib/python3.12/site-packages (from google-cloud-resource-manager<3.0.0dev,>=1.3.3->google-cloud-aiplatform<2.0.0,>=1.26.1->embedchain>=0.1.114->crewai-tools>=0.17.0->crewai[tools]) (0.13.1)\n",
      "Requirement already satisfied: google-crc32c<2.0dev,>=1.0 in /workspaces/crewAI-examples/crewenv/lib/python3.12/site-packages (from google-cloud-storage<3.0.0dev,>=1.32.0->google-cloud-aiplatform<2.0.0,>=1.26.1->embedchain>=0.1.114->crewai-tools>=0.17.0->crewai[tools]) (1.6.0)\n",
      "Requirement already satisfied: jsonpatch<2.0,>=1.33 in /workspaces/crewAI-examples/crewenv/lib/python3.12/site-packages (from langchain-core<0.4.0,>=0.3.26->langchain<0.4.0,>=0.3.1->embedchain>=0.1.114->crewai-tools>=0.17.0->crewai[tools]) (1.33)\n",
      "Requirement already satisfied: tzdata>=2022.7 in /workspaces/crewAI-examples/crewenv/lib/python3.12/site-packages (from pandas>=1.4.3->langchain-cohere<0.4.0,>=0.3.0->embedchain>=0.1.114->crewai-tools>=0.17.0->crewai[tools]) (2024.2)\n",
      "Requirement already satisfied: pyasn1<0.7.0,>=0.4.6 in /workspaces/crewAI-examples/crewenv/lib/python3.12/site-packages (from pyasn1-modules>=0.2.1->google-auth>=1.0.1->kubernetes>=28.1.0->chromadb>=0.5.18->crewai[tools]) (0.6.1)\n",
      "Requirement already satisfied: grpcio-tools>=1.41.0 in /workspaces/crewAI-examples/crewenv/lib/python3.12/site-packages (from qdrant-client<2.0.0,>=1.9.1->mem0ai<0.2.0,>=0.1.29->embedchain>=0.1.114->crewai-tools>=0.17.0->crewai[tools]) (1.68.1)\n",
      "Requirement already satisfied: portalocker<3.0.0,>=2.7.0 in /workspaces/crewAI-examples/crewenv/lib/python3.12/site-packages (from qdrant-client<2.0.0,>=1.9.1->mem0ai<0.2.0,>=0.1.29->embedchain>=0.1.114->crewai-tools>=0.17.0->crewai[tools]) (2.10.1)\n",
      "Requirement already satisfied: setuptools in /workspaces/crewAI-examples/crewenv/lib/python3.12/site-packages (from grpcio-tools>=1.41.0->qdrant-client<2.0.0,>=1.9.1->mem0ai<0.2.0,>=0.1.29->embedchain>=0.1.114->crewai-tools>=0.17.0->crewai[tools]) (75.6.0)\n",
      "Requirement already satisfied: h2<5,>=3 in /workspaces/crewAI-examples/crewenv/lib/python3.12/site-packages (from httpx[http2]>=0.20.0->qdrant-client<2.0.0,>=1.9.1->mem0ai<0.2.0,>=0.1.29->embedchain>=0.1.114->crewai-tools>=0.17.0->crewai[tools]) (4.1.0)\n",
      "Requirement already satisfied: jsonpointer>=1.9 in /workspaces/crewAI-examples/crewenv/lib/python3.12/site-packages (from jsonpatch<2.0,>=1.33->langchain-core<0.4.0,>=0.3.26->langchain<0.4.0,>=0.3.1->embedchain>=0.1.114->crewai-tools>=0.17.0->crewai[tools]) (3.0.0)\n",
      "Requirement already satisfied: mypy-extensions>=0.3.0 in /workspaces/crewAI-examples/crewenv/lib/python3.12/site-packages (from typing-inspect<1,>=0.4.0->dataclasses-json<0.7,>=0.5.7->langchain-community<0.4.0,>=0.3.1->embedchain>=0.1.114->crewai-tools>=0.17.0->crewai[tools]) (1.0.0)\n",
      "Requirement already satisfied: hyperframe<7,>=6.0 in /workspaces/crewAI-examples/crewenv/lib/python3.12/site-packages (from h2<5,>=3->httpx[http2]>=0.20.0->qdrant-client<2.0.0,>=1.9.1->mem0ai<0.2.0,>=0.1.29->embedchain>=0.1.114->crewai-tools>=0.17.0->crewai[tools]) (6.0.1)\n",
      "Requirement already satisfied: hpack<5,>=4.0 in /workspaces/crewAI-examples/crewenv/lib/python3.12/site-packages (from h2<5,>=3->httpx[http2]>=0.20.0->qdrant-client<2.0.0,>=1.9.1->mem0ai<0.2.0,>=0.1.29->embedchain>=0.1.114->crewai-tools>=0.17.0->crewai[tools]) (4.0.0)\n",
      "Note: you may need to restart the kernel to use updated packages.\n"
     ]
    }
   ],
   "source": [
    "%pip install crewai[tools]\n"
   ]
  },
  {
   "cell_type": "code",
   "execution_count": 8,
   "id": "04569787-7ae6-4232-a7a8-843c4a85d29a",
   "metadata": {
    "colab": {
     "base_uri": "https://localhost:8080/"
    },
    "executionInfo": {
     "elapsed": 42336,
     "status": "ok",
     "timestamp": 1736108539179,
     "user": {
      "displayName": "Richard Wellman",
      "userId": "02933736804070866344"
     },
     "user_tz": 300
    },
    "id": "04569787-7ae6-4232-a7a8-843c4a85d29a",
    "outputId": "5040d4af-68e2-40ce-e15b-f417b3650ba3"
   },
   "outputs": [],
   "source": [
    "\n",
    "\n",
    "import os\n",
    "import requests\n",
    "import warnings\n",
    "import io\n",
    "import pandas as pd\n",
    "from crewai import Agent, Task, Crew\n",
    "\n",
    "warnings.filterwarnings('ignore')"
   ]
  },
  {
   "cell_type": "code",
   "execution_count": 37,
   "id": "6f6d9639-7a10-4cab-b42b-8ede69f9d0cc",
   "metadata": {
    "id": "6f6d9639-7a10-4cab-b42b-8ede69f9d0cc"
   },
   "outputs": [
    {
     "name": "stdout",
     "output_type": "stream",
     "text": [
      "┌──────────────┬─────────────┬─────────┬─────────┬─────────┬─────────┐\n",
      "│ column_name  │ column_type │  null   │   key   │ default │  extra  │\n",
      "│   varchar    │   varchar   │ varchar │ varchar │ varchar │ varchar │\n",
      "├──────────────┼─────────────┼─────────┼─────────┼─────────┼─────────┤\n",
      "│ show_id      │ VARCHAR     │ YES     │ NULL    │ NULL    │ NULL    │\n",
      "│ type         │ VARCHAR     │ YES     │ NULL    │ NULL    │ NULL    │\n",
      "│ title        │ VARCHAR     │ YES     │ NULL    │ NULL    │ NULL    │\n",
      "│ director     │ VARCHAR     │ YES     │ NULL    │ NULL    │ NULL    │\n",
      "│ cast         │ VARCHAR     │ YES     │ NULL    │ NULL    │ NULL    │\n",
      "│ country      │ VARCHAR     │ YES     │ NULL    │ NULL    │ NULL    │\n",
      "│ date_added   │ VARCHAR     │ YES     │ NULL    │ NULL    │ NULL    │\n",
      "│ release_year │ BIGINT      │ YES     │ NULL    │ NULL    │ NULL    │\n",
      "│ rating       │ VARCHAR     │ YES     │ NULL    │ NULL    │ NULL    │\n",
      "│ duration     │ VARCHAR     │ YES     │ NULL    │ NULL    │ NULL    │\n",
      "│ listed_in    │ VARCHAR     │ YES     │ NULL    │ NULL    │ NULL    │\n",
      "│ description  │ VARCHAR     │ YES     │ NULL    │ NULL    │ NULL    │\n",
      "├──────────────┴─────────────┴─────────┴─────────┴─────────┴─────────┤\n",
      "│ 12 rows                                                  6 columns │\n",
      "└────────────────────────────────────────────────────────────────────┘\n",
      "\n"
     ]
    },
    {
     "data": {
      "text/plain": [
       "┌──────────────┬─────────────┬─────────┬─────────┬─────────┬─────────┐\n",
       "│ column_name  │ column_type │  null   │   key   │ default │  extra  │\n",
       "│   varchar    │   varchar   │ varchar │ varchar │ varchar │ varchar │\n",
       "├──────────────┼─────────────┼─────────┼─────────┼─────────┼─────────┤\n",
       "│ show_id      │ VARCHAR     │ YES     │ NULL    │ NULL    │ NULL    │\n",
       "│ type         │ VARCHAR     │ YES     │ NULL    │ NULL    │ NULL    │\n",
       "│ title        │ VARCHAR     │ YES     │ NULL    │ NULL    │ NULL    │\n",
       "│ director     │ VARCHAR     │ YES     │ NULL    │ NULL    │ NULL    │\n",
       "│ cast         │ VARCHAR     │ YES     │ NULL    │ NULL    │ NULL    │\n",
       "│ country      │ VARCHAR     │ YES     │ NULL    │ NULL    │ NULL    │\n",
       "│ date_added   │ VARCHAR     │ YES     │ NULL    │ NULL    │ NULL    │\n",
       "│ release_year │ BIGINT      │ YES     │ NULL    │ NULL    │ NULL    │\n",
       "│ rating       │ VARCHAR     │ YES     │ NULL    │ NULL    │ NULL    │\n",
       "│ duration     │ VARCHAR     │ YES     │ NULL    │ NULL    │ NULL    │\n",
       "│ listed_in    │ VARCHAR     │ YES     │ NULL    │ NULL    │ NULL    │\n",
       "│ description  │ VARCHAR     │ YES     │ NULL    │ NULL    │ NULL    │\n",
       "├──────────────┴─────────────┴─────────┴─────────┴─────────┴─────────┤\n",
       "│ 12 rows                                                  6 columns │\n",
       "└────────────────────────────────────────────────────────────────────┘"
      ]
     },
     "execution_count": 37,
     "metadata": {},
     "output_type": "execute_result"
    }
   ],
   "source": [
    "def get_netflix_data(query):\n",
    "    data = duckdb.sql(query)\n",
    "    return data \n",
    "\n",
    "print(get_netflix_data('describe netflix'))\n",
    "\n",
    "duckdb.sql('describe netflix')"
   ]
  },
  {
   "cell_type": "markdown",
   "id": "05019e02-81ee-4704-b333-3e342d1bb24f",
   "metadata": {
    "id": "05019e02-81ee-4704-b333-3e342d1bb24f"
   },
   "source": [
    "### Setting up OpenAI"
   ]
  },
  {
   "cell_type": "code",
   "execution_count": 22,
   "id": "08d0a74a-2179-40c0-94cf-fed3ef2e5691",
   "metadata": {
    "id": "08d0a74a-2179-40c0-94cf-fed3ef2e5691"
   },
   "outputs": [
    {
     "data": {
      "text/plain": [
       "True"
      ]
     },
     "execution_count": 22,
     "metadata": {},
     "output_type": "execute_result"
    }
   ],
   "source": [
    "from dotenv import load_dotenv\n",
    "\n",
    "# Load environment variables\n",
    "load_dotenv()"
   ]
  },
  {
   "cell_type": "code",
   "execution_count": 23,
   "id": "c762b901-68c4-4fbd-ac68-e8530eadb0fa",
   "metadata": {
    "id": "c762b901-68c4-4fbd-ac68-e8530eadb0fa"
   },
   "outputs": [],
   "source": [
    "os.environ[\"OPENAI_MODEL_NAME\"]='gpt-4o-mini'"
   ]
  },
  {
   "cell_type": "markdown",
   "id": "edcbeec4-381a-462e-9786-f73248d9eea0",
   "metadata": {
    "id": "edcbeec4-381a-462e-9786-f73248d9eea0"
   },
   "source": [
    "### Creating documentation"
   ]
  },
  {
   "cell_type": "code",
   "execution_count": 24,
   "id": "aac7cf7e-501e-41ae-bdf3-860be7a0bb58",
   "metadata": {
    "id": "aac7cf7e-501e-41ae-bdf3-860be7a0bb58"
   },
   "outputs": [],
   "source": [
    "from crewai_tools import BaseTool\n",
    "\n",
    "class DatabaseQuery(BaseTool):\n",
    "    name: str = \"Database Query\"\n",
    "    description: str = \"Returns the result of SQL query execution\"\n",
    "\n",
    "    def _run(self, sql_query: str) -> str:\n",
    "        # Implementation goes here\n",
    "        return get_netflix_data(sql_query)\n",
    "database_query_tool = DatabaseQuery()"
   ]
  },
  {
   "cell_type": "code",
   "execution_count": 25,
   "id": "db4be907-54ca-420f-9212-b39408d6402a",
   "metadata": {
    "id": "db4be907-54ca-420f-9212-b39408d6402a"
   },
   "outputs": [],
   "source": [
    "class TableStructure(BaseTool):\n",
    "    name: str = \"Table structure\"\n",
    "    description: str = \"Returns the list of columns and their types\"\n",
    "\n",
    "    def _run(self, table: str) -> str:\n",
    "        table = table.strip('\"').strip(\"'\")\n",
    "        return get_netflix_data('describe {table}')\n",
    "\n",
    "class TableExamples(BaseTool):\n",
    "    name: str = \"Table examples\"\n",
    "    description: str = \"Returns the first N rows from the table\"\n",
    "\n",
    "    def _run(self, table: str, n: int = 30) -> str:\n",
    "        table = table.strip('\"').strip(\"'\")\n",
    "        return get_netflix_data('select * from {table} limit {n}')\n",
    "\n",
    "table_structure_tool = TableStructure()\n",
    "table_examples_tool = TableExamples()"
   ]
  },
  {
   "cell_type": "code",
   "execution_count": 26,
   "id": "70134737-fe63-48e4-99dc-8cf18b284e30",
   "metadata": {
    "id": "70134737-fe63-48e4-99dc-8cf18b284e30"
   },
   "outputs": [],
   "source": [
    "database_specialist_agent = Agent(\n",
    "    role = \"database specialist\",\n",
    "    goal = \"Provide data to answer business questions using SQL\",\n",
    "    backstory = '''\n",
    "    You are an expert in SQL, so you can help the team to gather needed data to power their decisions.\n",
    "    You are very accurate and take into account all the nuances in data.''',\n",
    "    allow_delegation=False,\n",
    "    verbose=True\n",
    ")"
   ]
  },
  {
   "cell_type": "code",
   "execution_count": 27,
   "id": "29b5b324-caf0-4e52-9347-6ffbb9ae1d34",
   "metadata": {
    "id": "29b5b324-caf0-4e52-9347-6ffbb9ae1d34"
   },
   "outputs": [],
   "source": [
    "tech_writer_agent = Agent(\n",
    "    role = \"technical writer\",\n",
    "    goal = \"Write engaging and factually accurate technical documentation for data sources or tools\",\n",
    "    backstory = '''\n",
    "    You are an expert in both technology and communications, so you can easily explain even sophisticated concepts.\n",
    "    Your texts are concise and can be easily understood by wide audience.\n",
    "    You use professional but rather informal style in your communication.\n",
    "    You base your work on the factual information provided by your colleagues.\n",
    "    You stick to the facts in the documentation and use ONLY information provided by the colleagues not adding anything.\n",
    "    ''',\n",
    "    allow_delegation=False,\n",
    "    verbose=True\n",
    ")"
   ]
  },
  {
   "cell_type": "code",
   "execution_count": 28,
   "id": "6fc50d04-04c5-471b-862f-ea0de6dc3158",
   "metadata": {
    "id": "6fc50d04-04c5-471b-862f-ea0de6dc3158"
   },
   "outputs": [],
   "source": [
    "table_description_task = Task(\n",
    "    description = '''Provide the comprehensive overview for the data in table {table}, so that\n",
    "    it's easy to understand the structure of the data. This task is crucial to put together the documentation for our database''',\n",
    "    expected_output = '''The comprehensive overview of {table} in the md format. Include 2 sections: columns (list of columns with their types) and examples (the first 10 rows from table).''',\n",
    "    tools = [database_query_tool, table_structure_tool, table_examples_tool],\n",
    "    agent = database_specialist_agent\n",
    ")"
   ]
  },
  {
   "cell_type": "code",
   "execution_count": 29,
   "id": "0dc92a20-1a5f-4a0e-a930-c512e4171ed3",
   "metadata": {
    "id": "0dc92a20-1a5f-4a0e-a930-c512e4171ed3"
   },
   "outputs": [],
   "source": [
    "table_documentation_task = Task(\n",
    "    description = '''Using provided information about the table, put together the detailed documentation for this table so that people can use it in practice''',\n",
    "    expected_output = '''Well-written detailed documentation describing the data scheme for the table {table} in markdown format,\n",
    "    that gives the table overview in 1-2 sentences then then describes each columm. Structure the columns description as a markdown table with column name, type and description.\n",
    "    The documentation is based ONLY on the information provided by the database specialist without any additions.\n",
    "    ''',\n",
    "    tools = [],\n",
    "    output_file=\"table_documentation.md\",\n",
    "    agent = tech_writer_agent\n",
    ")"
   ]
  },
  {
   "cell_type": "code",
   "execution_count": 30,
   "id": "72f28039-af39-4407-b020-a63a7ad64a5c",
   "metadata": {
    "id": "72f28039-af39-4407-b020-a63a7ad64a5c"
   },
   "outputs": [],
   "source": [
    "qa_specialist_agent = Agent(\n",
    "    role = \"Quality Assurance specialist\",\n",
    "    goal = \"Ensure the highest quality of the documentation we provide (that it's correct and easy to understand)\",\n",
    "    backstory = '''\n",
    "    You work as a Quality Assurance specialist, checking the work from the technical writer and ensuring that it's inline with our highest standards.\n",
    "    You need to check that the technical writer provides the full complete answers and make no assumptions.\n",
    "    Also, you need to make sure that the documentation addresses all the questions and is easy to understand.\n",
    "    ''',\n",
    "    allow_delegation=True,\n",
    "    verbose=True\n",
    ")"
   ]
  },
  {
   "cell_type": "code",
   "execution_count": 31,
   "id": "8261c382-102c-4b50-8efc-27e94fe39098",
   "metadata": {
    "id": "8261c382-102c-4b50-8efc-27e94fe39098"
   },
   "outputs": [],
   "source": [
    "qa_review_task = Task(\n",
    "    description = '''\n",
    "    Review the draft documentation provided by the technical writer.\n",
    "    Ensure that the documentation fully answers all the questions: the purpose of the table and its structure in the form of markdown table.\n",
    "    Make sure that the documentation is consistent with the  information provided by the database specialist.\n",
    "    Double check that there are no irrelevant comments in the final version of documentation.\n",
    "    ''',\n",
    "    expected_output = '''\n",
    "    The final version of the documentation in markdown format that can be published.\n",
    "    The documentation should fully address all the questions, be consistent and follow our professional but informal tone of voice.\n",
    "    ''',\n",
    "    tools = [],\n",
    "    context = [table_description_task, table_documentation_task],\n",
    "    output_file=\"checked_table_documentation.md\",\n",
    "    agent = qa_specialist_agent\n",
    ")"
   ]
  },
  {
   "cell_type": "code",
   "execution_count": 33,
   "id": "6ca1f630-53db-457f-86ed-d4709259aaba",
   "metadata": {
    "id": "6ca1f630-53db-457f-86ed-d4709259aaba"
   },
   "outputs": [],
   "source": [
    "full_crew = Crew(\n",
    "    agents=[database_specialist_agent, tech_writer_agent, qa_specialist_agent],\n",
    "    tasks=[table_description_task,  table_documentation_task, qa_review_task],\n",
    "    verbose=True,\n",
    "    memory = True\n",
    ")"
   ]
  },
  {
   "cell_type": "code",
   "execution_count": null,
   "id": "2719e67f-e709-4bd1-ada3-b000f5ce459a",
   "metadata": {
    "id": "2719e67f-e709-4bd1-ada3-b000f5ce459a"
   },
   "outputs": [],
   "source": [
    "#%%time\n",
    "\n",
    "full_result = full_crew.kickoff({'table': 'netflix'})"
   ]
  },
  {
   "cell_type": "code",
   "execution_count": null,
   "id": "9a67d002-e0d4-4d82-b518-719ae761cfc4",
   "metadata": {
    "id": "9a67d002-e0d4-4d82-b518-719ae761cfc4"
   },
   "outputs": [],
   "source": [
    "from IPython.display import Markdown\n",
    "Markdown(full_result.replace(\"```\", \"\"))"
   ]
  },
  {
   "cell_type": "code",
   "execution_count": null,
   "id": "b0a1d302-ebe9-49f0-b872-dd1c0bbe017f",
   "metadata": {
    "id": "b0a1d302-ebe9-49f0-b872-dd1c0bbe017f"
   },
   "outputs": [],
   "source": [
    "#%%time\n",
    "full_sessions_result = full_crew.kickoff({'table': 'ecommerce_db.sessions'})"
   ]
  },
  {
   "cell_type": "code",
   "execution_count": null,
   "id": "ead1fa98-a238-4ba6-abfe-ea2a9b83d422",
   "metadata": {
    "id": "ead1fa98-a238-4ba6-abfe-ea2a9b83d422"
   },
   "outputs": [],
   "source": [
    "from IPython.display import Markdown\n",
    "Markdown(full_sessions_result.replace(\"```\", \"\"))"
   ]
  },
  {
   "cell_type": "code",
   "execution_count": null,
   "id": "2172ac97-ce5f-45e5-bb20-70d81e70bb2e",
   "metadata": {
    "id": "2172ac97-ce5f-45e5-bb20-70d81e70bb2e"
   },
   "outputs": [],
   "source": []
  }
 ],
 "metadata": {
  "colab": {
   "provenance": []
  },
  "kernelspec": {
   "display_name": "Python 3 (ipykernel)",
   "language": "python",
   "name": "python3"
  },
  "language_info": {
   "codemirror_mode": {
    "name": "ipython",
    "version": 3
   },
   "file_extension": ".py",
   "mimetype": "text/x-python",
   "name": "python",
   "nbconvert_exporter": "python",
   "pygments_lexer": "ipython3",
   "version": "3.11.6"
  }
 },
 "nbformat": 4,
 "nbformat_minor": 5
}
