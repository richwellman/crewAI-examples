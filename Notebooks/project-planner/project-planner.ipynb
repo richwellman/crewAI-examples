{
 "cells": [
  {
   "cell_type": "markdown",
   "id": "bae53a09-c04c-4916-a146-00e0bb188954",
   "metadata": {},
   "source": [
    "# L1: Automated Project: Planning, Estimation, and Allocation"
   ]
  },
  {
   "cell_type": "markdown",
   "id": "30ada5b1-06ec-41e8-8f60-5e0e0d389ffb",
   "metadata": {},
   "source": [
    "## Initial Imports"
   ]
  },
  {
   "cell_type": "code",
   "execution_count": null,
   "id": "6defe9da",
   "metadata": {},
   "outputs": [],
   "source": [
    "%pip install agentops dotenv"
   ]
  },
  {
   "cell_type": "code",
   "execution_count": 12,
   "id": "4193708e-9802-4161-844a-735f6361e24d",
   "metadata": {
    "height": 200
   },
   "outputs": [
    {
     "name": "stderr",
     "output_type": "stream",
     "text": [
      "🖇 AgentOps: \u001b[34m\u001b[34mSession Replay: https://app.agentops.ai/drilldown?session_id=5b0cd398-e775-4058-95f8-0fc51cb3dacc\u001b[0m\u001b[0m\n"
     ]
    },
    {
     "data": {
      "text/plain": [
       "<agentops.session.Session at 0x768c4e190a70>"
      ]
     },
     "execution_count": 12,
     "metadata": {},
     "output_type": "execute_result"
    }
   ],
   "source": [
    "# Warning control\n",
    "import warnings\n",
    "warnings.filterwarnings('ignore')\n",
    "\n",
    "from dotenv import load_dotenv\n",
    "\n",
    "# Load environment variables\n",
    "load_dotenv()\n",
    "\n",
    "import os\n",
    "import yaml\n",
    "from crewai import Agent, Task, Crew\n",
    "import agentops\n",
    "\n",
    "agentops.init()"
   ]
  },
  {
   "cell_type": "markdown",
   "id": "66752d49-82ae-4b58-b76b-fc57c6b5f23e",
   "metadata": {},
   "source": [
    "<p style=\"background-color:#fff6ff; padding:15px; border-width:3px; border-color:#efe6ef; border-style:solid; border-radius:6px\"> 💻 &nbsp; <b>Access <code>requirements.txt</code> and <code>helper.py</code> files:</b> 1) click on the <em>\"File\"</em> option on the top menu of the notebook and then 2) click on <em>\"Open\"</em>. For more help, please see the <em>\"Appendix - Tips and Help\"</em> Lesson.</p>"
   ]
  },
  {
   "cell_type": "markdown",
   "id": "b930b575-a2d5-467b-878f-de78e10b6ba5",
   "metadata": {},
   "source": [
    "## Set OpenAI Model"
   ]
  },
  {
   "cell_type": "code",
   "execution_count": 13,
   "id": "91cb8100-3058-4cdc-969b-c64a46a408e4",
   "metadata": {
    "height": 30
   },
   "outputs": [],
   "source": [
    "os.environ['OPENAI_MODEL_NAME'] = 'gpt-4o-mini'"
   ]
  },
  {
   "cell_type": "markdown",
   "id": "96b83836-9ccb-47d7-a97b-9a68aebfaa42",
   "metadata": {},
   "source": [
    "## Loading Tasks and Agents YAML files"
   ]
  },
  {
   "cell_type": "code",
   "execution_count": 14,
   "id": "5a4e362d-c010-43dd-88c4-e7db87834fb4",
   "metadata": {
    "height": 268
   },
   "outputs": [],
   "source": [
    "# Define file paths for YAML configurations\n",
    "files = {\n",
    "    'agents': 'config/agents.yaml',\n",
    "    'tasks': 'config/tasks.yaml'\n",
    "}\n",
    "\n",
    "# Load configurations from YAML files\n",
    "configs = {}\n",
    "for config_type, file_path in files.items():\n",
    "    with open(file_path, 'r') as file:\n",
    "        configs[config_type] = yaml.safe_load(file)\n",
    "\n",
    "# Assign loaded configurations to specific variables\n",
    "agents_config = configs['agents']\n",
    "tasks_config = configs['tasks']"
   ]
  },
  {
   "cell_type": "markdown",
   "id": "c5f50c89-a326-4e4c-93a1-79be3fcda14b",
   "metadata": {},
   "source": [
    "## Create Pydantic Models for Structured Output"
   ]
  },
  {
   "cell_type": "code",
   "execution_count": 15,
   "id": "0e8626d2-e48a-4b7e-a061-a8eb492c9036",
   "metadata": {
    "height": 268
   },
   "outputs": [],
   "source": [
    "from typing import List\n",
    "from pydantic import BaseModel, Field\n",
    "\n",
    "class TaskEstimate(BaseModel):\n",
    "    task_name: str = Field(..., description=\"Name of the task\")\n",
    "    estimated_time_hours: float = Field(..., description=\"Estimated time to complete the task in hours\")\n",
    "    required_resources: List[str] = Field(..., description=\"List of resources required to complete the task\")\n",
    "\n",
    "class Milestone(BaseModel):\n",
    "    milestone_name: str = Field(..., description=\"Name of the milestone\")\n",
    "    tasks: List[str] = Field(..., description=\"List of task IDs associated with this milestone\")\n",
    "\n",
    "class ProjectPlan(BaseModel):\n",
    "    tasks: List[TaskEstimate] = Field(..., description=\"List of tasks with their estimates\")\n",
    "    milestones: List[Milestone] = Field(..., description=\"List of project milestones\")"
   ]
  },
  {
   "cell_type": "markdown",
   "id": "92d6524c-48e7-460e-8345-3b7a872b714a",
   "metadata": {},
   "source": [
    "## Create Crew, Agents and Tasks"
   ]
  },
  {
   "cell_type": "code",
   "execution_count": 16,
   "id": "a655927f-c10c-4c06-852a-d9c96fdfbfb9",
   "metadata": {
    "height": 761
   },
   "outputs": [
    {
     "name": "stderr",
     "output_type": "stream",
     "text": [
      "Overriding of current TracerProvider is not allowed\n"
     ]
    }
   ],
   "source": [
    "# Creating Agents\n",
    "project_planning_agent = Agent(\n",
    "  config=agents_config['project_planning_agent']\n",
    ")\n",
    "\n",
    "estimation_agent = Agent(\n",
    "  config=agents_config['estimation_agent']\n",
    ")\n",
    "\n",
    "resource_allocation_agent = Agent(\n",
    "  config=agents_config['resource_allocation_agent']\n",
    ")\n",
    "\n",
    "# Creating Tasks\n",
    "task_breakdown = Task(\n",
    "  config=tasks_config['task_breakdown'],\n",
    "  agent=project_planning_agent\n",
    ")\n",
    "\n",
    "time_resource_estimation = Task(\n",
    "  config=tasks_config['time_resource_estimation'],\n",
    "  agent=estimation_agent\n",
    ")\n",
    "\n",
    "resource_allocation = Task(\n",
    "  config=tasks_config['resource_allocation'],\n",
    "  agent=resource_allocation_agent,\n",
    "  output_pydantic=ProjectPlan # This is the structured output we want\n",
    ")\n",
    "\n",
    "# Creating Crew\n",
    "crew = Crew(\n",
    "  agents=[\n",
    "    project_planning_agent,\n",
    "    estimation_agent,\n",
    "    resource_allocation_agent\n",
    "  ],\n",
    "  tasks=[\n",
    "    task_breakdown,\n",
    "    time_resource_estimation,\n",
    "    resource_allocation\n",
    "  ],\n",
    "  verbose=True\n",
    ")"
   ]
  },
  {
   "cell_type": "markdown",
   "id": "51b901cf-3630-4662-81a7-762da6773d3b",
   "metadata": {},
   "source": [
    "## Crew's Inputs"
   ]
  },
  {
   "cell_type": "code",
   "execution_count": 17,
   "id": "9e861574-0f9b-4f2c-b2d1-a230fc3a53a3",
   "metadata": {
    "height": 693
   },
   "outputs": [
    {
     "data": {
      "text/markdown": [
       "\n",
       "**Project Type:** Website\n",
       "\n",
       "**Project Objectives:** Create a website for a small business\n",
       "\n",
       "**Industry:** Technology\n",
       "\n",
       "**Team Members:**\n",
       "\n",
       "- John Doe (Project Manager)\n",
       "- Jane Doe (Software Engineer)\n",
       "- Bob Smith (Designer)\n",
       "- Alice Johnson (QA Engineer)\n",
       "- Tom Brown (QA Engineer)\n",
       "\n",
       "**Project Requirements:**\n",
       "\n",
       "- Create a responsive design that works well on desktop and mobile devices\n",
       "- Implement a modern, visually appealing user interface with a clean look\n",
       "- Develop a user-friendly navigation system with intuitive menu structure\n",
       "- Include an \"About Us\" page highlighting the company's history and values\n",
       "- Design a \"Services\" page showcasing the business's offerings with descriptions\n",
       "- Create a \"Contact Us\" page with a form and integrated map for communication\n",
       "- Implement a blog section for sharing industry news and company updates\n",
       "- Ensure fast loading times and optimize for search engines (SEO)\n",
       "- Integrate social media links and sharing capabilities\n",
       "- Include a testimonials section to showcase customer feedback and build trust\n",
       "\n"
      ],
      "text/plain": [
       "<IPython.core.display.Markdown object>"
      ]
     },
     "metadata": {},
     "output_type": "display_data"
    }
   ],
   "source": [
    "from IPython.display import display, Markdown\n",
    "\n",
    "project = 'Website'\n",
    "industry = 'Technology'\n",
    "project_objectives = 'Create a website for a small business'\n",
    "team_members = \"\"\"\n",
    "- John Doe (Project Manager)\n",
    "- Jane Doe (Software Engineer)\n",
    "- Bob Smith (Designer)\n",
    "- Alice Johnson (QA Engineer)\n",
    "- Tom Brown (QA Engineer)\n",
    "\"\"\"\n",
    "project_requirements = \"\"\"\n",
    "- Create a responsive design that works well on desktop and mobile devices\n",
    "- Implement a modern, visually appealing user interface with a clean look\n",
    "- Develop a user-friendly navigation system with intuitive menu structure\n",
    "- Include an \"About Us\" page highlighting the company's history and values\n",
    "- Design a \"Services\" page showcasing the business's offerings with descriptions\n",
    "- Create a \"Contact Us\" page with a form and integrated map for communication\n",
    "- Implement a blog section for sharing industry news and company updates\n",
    "- Ensure fast loading times and optimize for search engines (SEO)\n",
    "- Integrate social media links and sharing capabilities\n",
    "- Include a testimonials section to showcase customer feedback and build trust\n",
    "\"\"\"\n",
    "\n",
    "# Format the dictionary as Markdown for a better display in Jupyter Lab\n",
    "formatted_output = f\"\"\"\n",
    "**Project Type:** {project}\n",
    "\n",
    "**Project Objectives:** {project_objectives}\n",
    "\n",
    "**Industry:** {industry}\n",
    "\n",
    "**Team Members:**\n",
    "{team_members}\n",
    "**Project Requirements:**\n",
    "{project_requirements}\n",
    "\"\"\"\n",
    "# Display the formatted output as Markdown\n",
    "display(Markdown(formatted_output))"
   ]
  },
  {
   "cell_type": "markdown",
   "id": "15198e13-e9ec-44d8-b15e-c97b7b7320bb",
   "metadata": {},
   "source": [
    "## Kicking off the crew"
   ]
  },
  {
   "cell_type": "code",
   "execution_count": 18,
   "id": "fa40b53e-0a49-4198-a263-c79a6a3af603",
   "metadata": {
    "height": 234
   },
   "outputs": [
    {
     "name": "stdout",
     "output_type": "stream",
     "text": [
      "\u001b[1m\u001b[95m# Agent:\u001b[00m \u001b[1m\u001b[92mThe Ultimate Project Planner\u001b[00m\n",
      "\u001b[95m## Task:\u001b[00m \u001b[92mCarefully analyze the project_requirements for the Website project and break them down into individual tasks. Define each task's scope in detail, set achievable timelines, and ensure that all dependencies are accounted for:\n",
      "\n",
      "- Create a responsive design that works well on desktop and mobile devices\n",
      "- Implement a modern, visually appealing user interface with a clean look\n",
      "- Develop a user-friendly navigation system with intuitive menu structure\n",
      "- Include an \"About Us\" page highlighting the company's history and values\n",
      "- Design a \"Services\" page showcasing the business's offerings with descriptions\n",
      "- Create a \"Contact Us\" page with a form and integrated map for communication\n",
      "- Implement a blog section for sharing industry news and company updates\n",
      "- Ensure fast loading times and optimize for search engines (SEO)\n",
      "- Integrate social media links and sharing capabilities\n",
      "- Include a testimonials section to showcase customer feedback and build trust\n",
      "\n",
      "\n",
      "Team members:\n",
      "\n",
      "- John Doe (Project Manager)\n",
      "- Jane Doe (Software Engineer)\n",
      "- Bob Smith (Designer)\n",
      "- Alice Johnson (QA Engineer)\n",
      "- Tom Brown (QA Engineer)\n",
      "\n",
      "\u001b[00m\n",
      "\n",
      "\n",
      "\u001b[1m\u001b[95m# Agent:\u001b[00m \u001b[1m\u001b[92mThe Ultimate Project Planner\u001b[00m\n",
      "\u001b[95m## Final Answer:\u001b[00m \u001b[92m\n",
      "### Project Requirements Breakdown for Website Project\n",
      "\n",
      "#### Comprehensive Task List with Description, Timelines, Dependencies, and Deliverables:\n",
      "\n",
      "1. **Create a Responsive Design**\n",
      "   - **Description:** Design a layout that adjusts well on various screen sizes including desktops, tablets, and smartphones.\n",
      "   - **Timeline:** Week 1 to Week 2\n",
      "   - **Dependencies:** None\n",
      "   - **Deliverable:** Responsive design mockups.\n",
      "\n",
      "2. **Develop a User Interface (UI)**\n",
      "   - **Description:** Implement a modern and appealing visual layout for the website, ensuring a clean aesthetic.\n",
      "   - **Timeline:** Week 3\n",
      "   - **Dependencies:** Completion of responsive design.\n",
      "   - **Deliverable:** Finalized UI design prototypes.\n",
      "\n",
      "3. **Develop a User-Friendly Navigation System**\n",
      "   - **Description:** Create an intuitive menu structure that facilitates easy navigation throughout the site.\n",
      "   - **Timeline:** Week 4\n",
      "   - **Dependencies:** Completion of the UI design.\n",
      "   - **Deliverable:** Wireframes showing navigation flow.\n",
      "\n",
      "4. **Create an \"About Us\" Page**\n",
      "   - **Description:** Write and structure content to showcase the company’s history, mission, and values.\n",
      "   - **Timeline:** Week 3 to Week 4\n",
      "   - **Dependencies:** None\n",
      "   - **Deliverable:** Completed content for the \"About Us\" page.\n",
      "\n",
      "5. **Design a \"Services\" Page**\n",
      "   - **Description:** Outline the services offered with detailed descriptions and use engaging visuals.\n",
      "   - **Timeline:** Week 4 to Week 5\n",
      "   - **Dependencies:** Completion of the UI design.\n",
      "   - **Deliverable:** Completed \"Services\" page mockup.\n",
      "\n",
      "6. **Create a \"Contact Us\" Page**\n",
      "   - **Description:** Include a contact form for inquiries and integrate a map for location.\n",
      "   - **Timeline:** Week 5\n",
      "   - **Dependencies:** Completion of UI design.\n",
      "   - **Deliverable:** Completed \"Contact Us\" page mockup.\n",
      "\n",
      "7. **Implement a Blog Section**\n",
      "   - **Description:** Develop a section for posting blogs, including functionalities for creating, editing, and deleting posts.\n",
      "   - **Timeline:** Week 6 to Week 7\n",
      "   - **Dependencies:** Completion of core website layout.\n",
      "   - **Deliverable:** Fully operational blog section.\n",
      "\n",
      "8. **Ensure Fast Loading Times and SEO Optimization**\n",
      "   - **Description:** Optimize images, minify code, and employ SEO best practices to improve site speed and visibility.\n",
      "   - **Timeline:** Week 7\n",
      "   - **Dependencies:** Completely developed website pages.\n",
      "   - **Deliverable:** Performance report indicating load times and SEO scores.\n",
      "\n",
      "9. **Integrate Social Media Links and Sharing Capabilities**\n",
      "   - **Description:** Add social media buttons and sharing options to enhance connectivity.\n",
      "   - **Timeline:** Week 7\n",
      "   - **Dependencies:** Completion of all website pages.\n",
      "   - **Deliverable:** Social media integration verified.\n",
      "\n",
      "10. **Include a Testimonials Section**\n",
      "    - **Description:** Design a section for customer feedback to showcase reviews and build credibility.\n",
      "    - **Timeline:** Week 6 to Week 7\n",
      "    - **Dependencies:** None\n",
      "    - **Deliverable:** Completed testimonials section.\n",
      "\n",
      "11. **Quality Assurance Testing**\n",
      "    - **Description:** Conduct thorough testing for functionality, performance, and user experience.\n",
      "    - **Timeline:** Week 8\n",
      "    - **Dependencies:** Completion of all previous tasks.\n",
      "    - **Deliverable:** QA report listing any bugs and resolutions.\n",
      "\n",
      "12. **Deployment**\n",
      "    - **Description:** Launch the completed website to a live server.\n",
      "    - **Timeline:** Week 9\n",
      "    - **Dependencies:** Completion of QA testing.\n",
      "    - **Deliverable:** Live website accessible to users.\n",
      "\n",
      "### Gantt Chart Visualization:\n",
      "\n",
      "| Task                                     | Duration       | Timeline (Weeks) |\n",
      "|------------------------------------------|----------------|------------------|\n",
      "| Create a Responsive Design               | 2 weeks        | Week 1 - Week 2  |\n",
      "| Develop a User Interface (UI)           | 1 week         | Week 3           |\n",
      "| Develop a User-Friendly Navigation       | 1 week         | Week 4           |\n",
      "| Create an \"About Us\" Page               | 2 weeks        | Week 3 - Week 4  |\n",
      "| Design a \"Services\" Page                | 2 weeks        | Week 4 - Week 5  |\n",
      "| Create a \"Contact Us\" Page              | 1 week         | Week 5           |\n",
      "| Implement a Blog Section                 | 2 weeks        | Week 6 - Week 7  |\n",
      "| Ensure Fast Loading Times and SEO        | 1 week         | Week 7           |\n",
      "| Integrate Social Media Links             | 1 week         | Week 7           |\n",
      "| Include a Testimonials Section           | 2 weeks        | Week 6 - Week 7  |\n",
      "| Quality Assurance Testing                 | 1 week         | Week 8           |\n",
      "| Deployment                               | 1 week         | Week 9           |\n",
      "\n",
      "### Team Assignments\n",
      "\n",
      "- John Doe (Project Manager) – Oversee project timelines, resource allocation, and communication.\n",
      "- Jane Doe (Software Engineer) – Lead the implementation of technical functionalities.\n",
      "- Bob Smith (Designer) – Handle UI/UX design aspects and graphic elements.\n",
      "- Alice Johnson and Tom Brown (QA Engineers) – Perform testing and ensure quality across all site aspects.\n",
      "\n",
      "This project plan ensures all tasks are clearly outlined with realistic timelines while accounting for dependencies between tasks. The methodical approach guarantees delivery of a high-quality website for the small business, with every detail carefully addressed and planned for success.\u001b[00m\n",
      "\n",
      "\n",
      "\u001b[1m\u001b[95m# Agent:\u001b[00m \u001b[1m\u001b[92mExpert Estimation Analyst\u001b[00m\n",
      "\u001b[95m## Task:\u001b[00m \u001b[92mThoroughly evaluate each task in the Website project to estimate the time, resources, and effort required. Use historical data, task complexity, and available resources to provide a realistic estimation for each task.\n",
      "\u001b[00m\n",
      "\n",
      "\n",
      "\u001b[1m\u001b[95m# Agent:\u001b[00m \u001b[1m\u001b[92mExpert Estimation Analyst\u001b[00m\n",
      "\u001b[95m## Final Answer:\u001b[00m \u001b[92m\n",
      "# Detailed Estimation Report for Website Project\n",
      "\n",
      "## Task Evaluations\n",
      "\n",
      "1. **Create a Responsive Design**\n",
      "   - **Time Estimated:** 80 hours (2 weeks)\n",
      "   - **Resources Required:** 1 Designer (Bob Smith)\n",
      "   - **Effort Required:** 80 hours\n",
      "   - **Summary of Risks/Uncertainties:** Limited device testing may lead to unforeseen issues on less common resolutions.\n",
      "\n",
      "2. **Develop a User Interface (UI)**\n",
      "   - **Time Estimated:** 40 hours (1 week)\n",
      "   - **Resources Required:** 1 Designer (Bob Smith)\n",
      "   - **Effort Required:** 40 hours\n",
      "   - **Summary of Risks/Uncertainties:** Delays in feedback may extend the timeline if multiple revisions are needed.\n",
      "\n",
      "3. **Develop a User-Friendly Navigation System**\n",
      "   - **Time Estimated:** 40 hours (1 week)\n",
      "   - **Resources Required:** 1 Designer (Bob Smith)\n",
      "   - **Effort Required:** 40 hours\n",
      "   - **Summary of Risks/Uncertainties:** Potential conflicts in user flow may require user testing and adjustments.\n",
      "\n",
      "4. **Create an \"About Us\" Page**\n",
      "   - **Time Estimated:** 20 hours (2 weeks)\n",
      "   - **Resources Required:** 1 Content Writer (Alice)\n",
      "   - **Effort Required:** 20 hours\n",
      "   - **Summary of Risks/Uncertainties:** Content clarity issues may arise, requiring more time for revisions.\n",
      "\n",
      "5. **Design a \"Services\" Page**\n",
      "   - **Time Estimated:** 40 hours (2 weeks)\n",
      "   - **Resources Required:** 1 Designer (Bob Smith)\n",
      "   - **Effort Required:** 40 hours\n",
      "   - **Summary of Risks/Uncertainties:** Service details may change and need to be incorporated last minute.\n",
      "\n",
      "6. **Create a \"Contact Us\" Page**\n",
      "   - **Time Estimated:** 20 hours (1 week)\n",
      "   - **Resources Required:** 1 Developer (Jane Doe)\n",
      "   - **Effort Required:** 20 hours\n",
      "   - **Summary of Risks/Uncertainties:** Integration with mapping services may face technical challenges.\n",
      "\n",
      "7. **Implement a Blog Section**\n",
      "   - **Time Estimated:** 80 hours (2 weeks)\n",
      "   - **Resources Required:** 1 Developer (Jane Doe)\n",
      "   - **Effort Required:** 80 hours\n",
      "   - **Summary of Risks/Uncertainties:** Functionality bugs may arise, requiring testing.\n",
      "\n",
      "8. **Ensure Fast Loading Times and SEO Optimization**\n",
      "   - **Time Estimated:** 40 hours (1 week)\n",
      "   - **Resources Required:** 1 Developer (Jane Doe), 1 Designer (Bob Smith)\n",
      "   - **Effort Required:** 40 hours\n",
      "   - **Summary of Risks/Uncertainties:** SEO practices may change, necessitating updates to optimization strategies.\n",
      "\n",
      "9. **Integrate Social Media Links and Sharing Capabilities**\n",
      "   - **Time Estimated:** 20 hours (1 week)\n",
      "   - **Resources Required:** 1 Developer (Jane Doe)\n",
      "   - **Effort Required:** 20 hours\n",
      "   - **Summary of Risks/Uncertainties:** Limitations by social media APIs could affect implementation.\n",
      "\n",
      "10. **Include a Testimonials Section**\n",
      "    - **Time Estimated:** 40 hours (2 weeks)\n",
      "    - **Resources Required:** 1 Designer (Bob Smith), 1 Developer (Jane Doe)\n",
      "    - **Effort Required:** 40 hours\n",
      "    - **Summary of Risks/Uncertainties:** Gathering feedback may require more time than anticipated.\n",
      "\n",
      "11. **Quality Assurance Testing**\n",
      "    - **Time Estimated:** 80 hours (1 week)\n",
      "    - **Resources Required:** 2 QA Engineers (Alice Johnson and Tom Brown)\n",
      "    - **Effort Required:** 80 hours\n",
      "    - **Summary of Risks/Uncertainties:** Potentially high volume of bugs can extend testing duration.\n",
      "\n",
      "12. **Deployment**\n",
      "    - **Time Estimated:** 20 hours (1 week)\n",
      "    - **Resources Required:** 1 Developer (Jane Doe), 1 Project Manager (John Doe)\n",
      "    - **Effort Required:** 20 hours\n",
      "    - **Summary of Risks/Uncertainties:** Server issues could delay successful deployment.\n",
      "\n",
      "## Summary of Total Estimations\n",
      "\n",
      "- **Total Estimated Hours:** 480 hours\n",
      "- **Total Resources Required:** \n",
      "  - 1 Project Manager (John Doe)\n",
      "  - 1 Developer (Jane Doe)\n",
      "  - 1 Content Writer (Alice)\n",
      "  - 1 Designer (Bob Smith)\n",
      "  - 2 QA Engineers (Alice Johnson and Tom Brown)\n",
      "\n",
      "## Summary of Risks\n",
      "1. **Resource Availability:** Potential conflicts in team members' schedules.\n",
      "2. **Scope Creep:** Changes in project scope due to client feedback could impact timelines and resources.\n",
      "3. **Technical Challenges:** Unforeseen technical difficulties may require revisiting earlier tasks.\n",
      "4. **Time for Revisions:** Design and content revisions may take longer than planned if not properly managed.\n",
      "\n",
      "This comprehensive estimation report outlines expected time, resources, and effort for each task within the project, promoting successful completion with minimized risks.\u001b[00m\n",
      "\n",
      "\n",
      "\u001b[1m\u001b[95m# Agent:\u001b[00m \u001b[1m\u001b[92mResource Allocation Strategist\u001b[00m\n",
      "\u001b[95m## Task:\u001b[00m \u001b[92mStrategically allocate tasks for the Website project to team members based on their skills, availability, and current workload. Ensure that each task is assigned to the most suitable team member and that the workload is evenly distributed.\n",
      "\n",
      "Team members:\n",
      "\n",
      "- John Doe (Project Manager)\n",
      "- Jane Doe (Software Engineer)\n",
      "- Bob Smith (Designer)\n",
      "- Alice Johnson (QA Engineer)\n",
      "- Tom Brown (QA Engineer)\n",
      "\n",
      "\u001b[00m\n",
      "\n",
      "\n",
      "\u001b[1m\u001b[95m# Agent:\u001b[00m \u001b[1m\u001b[92mResource Allocation Strategist\u001b[00m\n",
      "\u001b[95m## Final Answer:\u001b[00m \u001b[92m\n",
      "{\n",
      "  \"tasks\": [\n",
      "    {\n",
      "      \"task_name\": \"Create a Responsive Design\",\n",
      "      \"estimated_time_hours\": 80,\n",
      "      \"required_resources\": [\"Bob Smith\"]\n",
      "    },\n",
      "    {\n",
      "      \"task_name\": \"Develop a User Interface (UI)\",\n",
      "      \"estimated_time_hours\": 40,\n",
      "      \"required_resources\": [\"Bob Smith\"]\n",
      "    },\n",
      "    {\n",
      "      \"task_name\": \"Develop a User-Friendly Navigation System\",\n",
      "      \"estimated_time_hours\": 40,\n",
      "      \"required_resources\": [\"Bob Smith\"]\n",
      "    },\n",
      "    {\n",
      "      \"task_name\": \"Create an 'About Us' Page\",\n",
      "      \"estimated_time_hours\": 20,\n",
      "      \"required_resources\": [\"Alice Johnson\"]\n",
      "    },\n",
      "    {\n",
      "      \"task_name\": \"Design a 'Services' Page\",\n",
      "      \"estimated_time_hours\": 40,\n",
      "      \"required_resources\": [\"Bob Smith\"]\n",
      "    },\n",
      "    {\n",
      "      \"task_name\": \"Create a 'Contact Us' Page\",\n",
      "      \"estimated_time_hours\": 20,\n",
      "      \"required_resources\": [\"Jane Doe\"]\n",
      "    },\n",
      "    {\n",
      "      \"task_name\": \"Implement a Blog Section\",\n",
      "      \"estimated_time_hours\": 80,\n",
      "      \"required_resources\": [\"Jane Doe\"]\n",
      "    },\n",
      "    {\n",
      "      \"task_name\": \"Ensure Fast Loading Times and SEO Optimization\",\n",
      "      \"estimated_time_hours\": 40,\n",
      "      \"required_resources\": [\"Jane Doe\", \"Bob Smith\"]\n",
      "    },\n",
      "    {\n",
      "      \"task_name\": \"Integrate Social Media Links and Sharing Capabilities\",\n",
      "      \"estimated_time_hours\": 20,\n",
      "      \"required_resources\": [\"Jane Doe\"]\n",
      "    },\n",
      "    {\n",
      "      \"task_name\": \"Include a Testimonials Section\",\n",
      "      \"estimated_time_hours\": 40,\n",
      "      \"required_resources\": [\"Bob Smith\", \"Jane Doe\"]\n",
      "    },\n",
      "    {\n",
      "      \"task_name\": \"Quality Assurance Testing\",\n",
      "      \"estimated_time_hours\": 80,\n",
      "      \"required_resources\": [\"Alice Johnson\", \"Tom Brown\"]\n",
      "    },\n",
      "    {\n",
      "      \"task_name\": \"Deployment\",\n",
      "      \"estimated_time_hours\": 20,\n",
      "      \"required_resources\": [\"Jane Doe\", \"John Doe\"]\n",
      "    }\n",
      "  ],\n",
      "  \"milestones\": [\n",
      "    {\n",
      "      \"milestone_name\": \"Design Phase Completion\",\n",
      "      \"tasks\": [\n",
      "        \"Create a Responsive Design\",\n",
      "        \"Develop a User Interface (UI)\",\n",
      "        \"Develop a User-Friendly Navigation System\",\n",
      "        \"Design a 'Services' Page\"\n",
      "      ]\n",
      "    },\n",
      "    {\n",
      "      \"milestone_name\": \"Content Creation and Development\",\n",
      "      \"tasks\": [\n",
      "        \"Create an 'About Us' Page\",\n",
      "        \"Create a 'Contact Us' Page\",\n",
      "        \"Implement a Blog Section\",\n",
      "        \"Integrate Social Media Links and Sharing Capabilities\"\n",
      "      ]\n",
      "    },\n",
      "    {\n",
      "      \"milestone_name\": \"Testing and Optimization\",\n",
      "      \"tasks\": [\n",
      "        \"Quality Assurance Testing\",\n",
      "        \"Ensure Fast Loading Times and SEO Optimization\",\n",
      "        \"Include a Testimonials Section\"\n",
      "      ]\n",
      "    },\n",
      "    {\n",
      "      \"milestone_name\": \"Deployment Phase\",\n",
      "      \"tasks\": [\n",
      "        \"Deployment\"\n",
      "      ]\n",
      "    }\n",
      "  ]\n",
      "}\n",
      "\n",
      "Rationale behind allocations:  \n",
      "1. **Bob Smith (Designer)** is assigned the majority of the design-related tasks, including creating a responsive design, developing the UI, navigation system, and designing the \"Services\" page. This leverages his expertise while ensuring he is not overburdened by spreading tasks over the designated timeline.\n",
      "  \n",
      "2. **Jane Doe (Developer)** is allocated to tasks that require technical implementation, such as creating the \"Contact Us\" page and implementing the blog. These tasks are balanced with the design work, maintaining her available capacity.\n",
      "  \n",
      "3. **Alice Johnson (QA Engineer)** is focusing primarily on content creation tasks and ensuring quality. She will handle the \"About Us\" page and share QA responsibilities with Tom Brown, balancing their workloads.\n",
      "\n",
      "4. **John Doe (Project Manager)** is involved only during the deployment phase to minimize distractions while ensuring that the team is well-coordinated throughout the project.\n",
      "\n",
      "5. Each milestone is designed to group tasks that are logically connected, facilitating collaboration among team members and maintaining a clear timeline to track progress. This ensures maximum efficiency and clarity as the project advances.\u001b[00m\n",
      "\n",
      "\n"
     ]
    },
    {
     "name": "stderr",
     "output_type": "stream",
     "text": [
      "🖇 AgentOps: Session Stats - \u001b[1mDuration:\u001b[0m 1m 28.4s | \u001b[1mCost:\u001b[0m $0.002362 | \u001b[1mLLMs:\u001b[0m 3 | \u001b[1mTools:\u001b[0m 0 | \u001b[1mActions:\u001b[0m 0 | \u001b[1mErrors:\u001b[0m 0\n",
      "🖇 AgentOps: \u001b[34m\u001b[34mSession Replay: https://app.agentops.ai/drilldown?session_id=5b0cd398-e775-4058-95f8-0fc51cb3dacc\u001b[0m\u001b[0m\n"
     ]
    }
   ],
   "source": [
    "# The given Python dictionary\n",
    "inputs = {\n",
    "  'project_type': project,\n",
    "  'project_objectives': project_objectives,\n",
    "  'industry': industry,\n",
    "  'team_members': team_members,\n",
    "  'project_requirements': project_requirements\n",
    "}\n",
    "\n",
    "# Run the crew\n",
    "result = crew.kickoff(\n",
    "  inputs=inputs\n",
    ")"
   ]
  },
  {
   "cell_type": "markdown",
   "id": "7879258f-52df-4503-b08e-acd516d0a946",
   "metadata": {},
   "source": [
    "## Usage Metrics and Costs"
   ]
  },
  {
   "cell_type": "markdown",
   "id": "d94dad33-91c9-4aac-8e16-24117dbbef46",
   "metadata": {},
   "source": [
    "Let’s see how much it would cost each time if this crew runs at scale."
   ]
  },
  {
   "cell_type": "code",
   "execution_count": 16,
   "id": "66b3b165-2a4b-46cc-93f7-696dffff1e10",
   "metadata": {
    "height": 149
   },
   "outputs": [
    {
     "name": "stdout",
     "output_type": "stream",
     "text": [
      "Total costs: $0.0011\n"
     ]
    },
    {
     "data": {
      "text/html": [
       "<div>\n",
       "<style scoped>\n",
       "    .dataframe tbody tr th:only-of-type {\n",
       "        vertical-align: middle;\n",
       "    }\n",
       "\n",
       "    .dataframe tbody tr th {\n",
       "        vertical-align: top;\n",
       "    }\n",
       "\n",
       "    .dataframe thead th {\n",
       "        text-align: right;\n",
       "    }\n",
       "</style>\n",
       "<table border=\"1\" class=\"dataframe\">\n",
       "  <thead>\n",
       "    <tr style=\"text-align: right;\">\n",
       "      <th></th>\n",
       "      <th>total_tokens</th>\n",
       "      <th>prompt_tokens</th>\n",
       "      <th>cached_prompt_tokens</th>\n",
       "      <th>completion_tokens</th>\n",
       "      <th>successful_requests</th>\n",
       "    </tr>\n",
       "  </thead>\n",
       "  <tbody>\n",
       "    <tr>\n",
       "      <th>0</th>\n",
       "      <td>7192</td>\n",
       "      <td>3855</td>\n",
       "      <td>0</td>\n",
       "      <td>3337</td>\n",
       "      <td>3</td>\n",
       "    </tr>\n",
       "  </tbody>\n",
       "</table>\n",
       "</div>"
      ],
      "text/plain": [
       "   total_tokens  prompt_tokens  cached_prompt_tokens  completion_tokens  \\\n",
       "0          7192           3855                     0               3337   \n",
       "\n",
       "   successful_requests  \n",
       "0                    3  "
      ]
     },
     "execution_count": 16,
     "metadata": {},
     "output_type": "execute_result"
    }
   ],
   "source": [
    "import pandas as pd\n",
    "\n",
    "costs = 0.150 * (crew.usage_metrics.prompt_tokens + crew.usage_metrics.completion_tokens) / 1_000_000\n",
    "print(f\"Total costs: ${costs:.4f}\")\n",
    "\n",
    "# Convert UsageMetrics instance to a DataFrame\n",
    "df_usage_metrics = pd.DataFrame([crew.usage_metrics.dict()])\n",
    "df_usage_metrics"
   ]
  },
  {
   "cell_type": "markdown",
   "id": "4982e83a-9e54-4510-9f06-751b34848287",
   "metadata": {},
   "source": [
    "## Result"
   ]
  },
  {
   "cell_type": "code",
   "execution_count": 17,
   "id": "6396b0f6-e3ae-4a89-a3e9-ca53aa042c40",
   "metadata": {
    "height": 30
   },
   "outputs": [
    {
     "data": {
      "text/plain": [
       "{'tasks': [{'task_name': 'Create Wireframes for Website Layout',\n",
       "   'estimated_time_hours': 40.0,\n",
       "   'required_resources': ['Bob Smith']},\n",
       "  {'task_name': 'UI/UX Design',\n",
       "   'estimated_time_hours': 80.0,\n",
       "   'required_resources': ['Bob Smith']},\n",
       "  {'task_name': 'Develop Responsive Website',\n",
       "   'estimated_time_hours': 160.0,\n",
       "   'required_resources': ['Jane Doe']},\n",
       "  {'task_name': 'Implement Navigation System',\n",
       "   'estimated_time_hours': 40.0,\n",
       "   'required_resources': ['Jane Doe']},\n",
       "  {'task_name': \"Content Creation for 'About Us' Page\",\n",
       "   'estimated_time_hours': 20.0,\n",
       "   'required_resources': ['Content Writer']},\n",
       "  {'task_name': \"Design and Create 'Services' Page\",\n",
       "   'estimated_time_hours': 20.0,\n",
       "   'required_resources': ['Content Writer']},\n",
       "  {'task_name': \"Create 'Contact Us' Page\",\n",
       "   'estimated_time_hours': 40.0,\n",
       "   'required_resources': ['Jane Doe']},\n",
       "  {'task_name': 'Develop Blog Section',\n",
       "   'estimated_time_hours': 80.0,\n",
       "   'required_resources': ['Jane Doe']},\n",
       "  {'task_name': 'SEO Optimization and Performance Tuning',\n",
       "   'estimated_time_hours': 80.0,\n",
       "   'required_resources': ['Jane Doe', 'SEO Specialist']},\n",
       "  {'task_name': 'Integrate Social Media Links',\n",
       "   'estimated_time_hours': 40.0,\n",
       "   'required_resources': ['Jane Doe']},\n",
       "  {'task_name': 'Create Testimonials Section',\n",
       "   'estimated_time_hours': 40.0,\n",
       "   'required_resources': ['Bob Smith', 'Content Writer']},\n",
       "  {'task_name': 'Quality Assurance Testing',\n",
       "   'estimated_time_hours': 160.0,\n",
       "   'required_resources': ['Alice Johnson', 'Tom Brown']},\n",
       "  {'task_name': 'Launch Website',\n",
       "   'estimated_time_hours': 40.0,\n",
       "   'required_resources': ['John Doe',\n",
       "    'Jane Doe',\n",
       "    'Alice Johnson',\n",
       "    'Tom Brown']}],\n",
       " 'milestones': [{'milestone_name': 'Design Phase Completion',\n",
       "   'tasks': ['Create Wireframes for Website Layout', 'UI/UX Design']},\n",
       "  {'milestone_name': 'Development Phase Completion',\n",
       "   'tasks': ['Develop Responsive Website',\n",
       "    'Implement Navigation System',\n",
       "    \"Create 'Contact Us' Page\",\n",
       "    'Develop Blog Section',\n",
       "    'Integrate Social Media Links']},\n",
       "  {'milestone_name': 'Content Phase Completion',\n",
       "   'tasks': [\"Content Creation for 'About Us' Page\",\n",
       "    \"Design and Create 'Services' Page\",\n",
       "    'Create Testimonials Section']},\n",
       "  {'milestone_name': 'Testing Phase Completion',\n",
       "   'tasks': ['Quality Assurance Testing']},\n",
       "  {'milestone_name': 'Final Launch', 'tasks': ['Launch Website']}]}"
      ]
     },
     "execution_count": 17,
     "metadata": {},
     "output_type": "execute_result"
    }
   ],
   "source": [
    "result.pydantic.dict()"
   ]
  },
  {
   "cell_type": "markdown",
   "id": "18ffcc83-350e-4f99-b03b-458690cc0ed2",
   "metadata": {},
   "source": [
    "## Inspect further"
   ]
  },
  {
   "cell_type": "code",
   "execution_count": null,
   "id": "da1bbf90-4bfc-4529-84dd-d0bd00198353",
   "metadata": {
    "height": 132
   },
   "outputs": [],
   "source": [
    "tasks = result.pydantic.dict()['tasks']\n",
    "df_tasks = pd.DataFrame(tasks)\n",
    "\n",
    "# Display the DataFrame as an HTML table\n",
    "df_tasks.style.set_table_attributes('border=\"1\"').set_caption(\"Task Details\").set_table_styles(\n",
    "    [{'selector': 'th, td', 'props': [('font-size', '120%')]}]\n",
    ")"
   ]
  },
  {
   "cell_type": "markdown",
   "id": "1210cae8-e028-4f7e-90ed-950ef86d41e5",
   "metadata": {},
   "source": [
    "### Inspecting Milestones"
   ]
  },
  {
   "cell_type": "code",
   "execution_count": null,
   "id": "91c2f18c-2d5b-41a9-837b-265e7aa245d0",
   "metadata": {
    "height": 132
   },
   "outputs": [],
   "source": [
    "milestones = result.pydantic.dict()['milestones']\n",
    "df_milestones = pd.DataFrame(milestones)\n",
    "\n",
    "# Display the DataFrame as an HTML table\n",
    "df_milestones.style.set_table_attributes('border=\"1\"').set_caption(\"Task Details\").set_table_styles(\n",
    "    [{'selector': 'th, td', 'props': [('font-size', '120%')]}]\n",
    ")"
   ]
  },
  {
   "cell_type": "code",
   "execution_count": null,
   "id": "a593fd80-36ef-48a1-a7c7-e45c37815f67",
   "metadata": {
    "height": 30
   },
   "outputs": [],
   "source": []
  },
  {
   "cell_type": "code",
   "execution_count": null,
   "id": "2e2c2526-de6d-4006-bd25-8c51e1f3d5f7",
   "metadata": {
    "height": 30
   },
   "outputs": [],
   "source": []
  },
  {
   "cell_type": "code",
   "execution_count": null,
   "id": "1ac3e1e0-e14f-446e-a912-18794337925c",
   "metadata": {
    "height": 30
   },
   "outputs": [],
   "source": []
  },
  {
   "cell_type": "code",
   "execution_count": null,
   "id": "c34b5062-29e2-4fbb-b771-02f5f547e47c",
   "metadata": {
    "height": 30
   },
   "outputs": [],
   "source": []
  },
  {
   "cell_type": "code",
   "execution_count": null,
   "id": "70303180-389e-4e90-8444-aba384ec8751",
   "metadata": {
    "height": 30
   },
   "outputs": [],
   "source": []
  },
  {
   "cell_type": "code",
   "execution_count": null,
   "id": "109926d3-50e5-43e7-87f8-a1d38e45d79d",
   "metadata": {
    "height": 30
   },
   "outputs": [],
   "source": []
  }
 ],
 "metadata": {
  "kernelspec": {
   "display_name": "Python 3 (ipykernel)",
   "language": "python",
   "name": "python3"
  },
  "language_info": {
   "codemirror_mode": {
    "name": "ipython",
    "version": 3
   },
   "file_extension": ".py",
   "mimetype": "text/x-python",
   "name": "python",
   "nbconvert_exporter": "python",
   "pygments_lexer": "ipython3",
   "version": "3.11.9"
  }
 },
 "nbformat": 4,
 "nbformat_minor": 5
}
