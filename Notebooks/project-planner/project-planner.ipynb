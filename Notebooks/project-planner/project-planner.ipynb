{
 "cells": [
  {
   "cell_type": "markdown",
   "id": "bae53a09-c04c-4916-a146-00e0bb188954",
   "metadata": {},
   "source": [
    "# L1: Automated Project: Planning, Estimation, and Allocation"
   ]
  },
  {
   "cell_type": "markdown",
   "id": "30ada5b1-06ec-41e8-8f60-5e0e0d389ffb",
   "metadata": {},
   "source": [
    "## Initial Imports"
   ]
  },
  {
   "cell_type": "code",
   "execution_count": 1,
   "id": "4193708e-9802-4161-844a-735f6361e24d",
   "metadata": {
    "height": 200
   },
   "outputs": [
    {
     "name": "stdout",
     "output_type": "stream",
     "text": [
      "\u001b[33mWarning: Your Langtrace SDK version 3.3.30 is outdated. Please upgrade to 3.5.1.\u001b[39m\n",
      "\u001b[32mInitializing Langtrace SDK..\u001b[39m\n",
      "\u001b[37m⭐ Leave our github a star to stay on top of our updates - https://github.com/Scale3-Labs/langtrace\u001b[39m\n"
     ]
    },
    {
     "name": "stderr",
     "output_type": "stream",
     "text": [
      "/workspaces/crewAI-examples/.venv/lib/python3.12/site-packages/crewai/tools/base_tool.py:30: PydanticDeprecatedSince20: Pydantic V1 style `@validator` validators are deprecated. You should migrate to Pydantic V2 style `@field_validator` validators, see the migration guide for more details. Deprecated in Pydantic V2.0 to be removed in V3.0. See Pydantic V2 Migration Guide at https://errors.pydantic.dev/2.10/migration/\n",
      "  @validator(\"args_schema\", always=True, pre=True)\n"
     ]
    },
    {
     "name": "stdout",
     "output_type": "stream",
     "text": [
      "\u001b[34mExporting spans to Langtrace cloud..\u001b[39m\n"
     ]
    }
   ],
   "source": [
    "# Warning control\n",
    "import warnings\n",
    "warnings.filterwarnings('ignore')\n",
    "\n",
    "from dotenv import load_dotenv\n",
    "# import agentops\n",
    "from langtrace_python_sdk import langtrace\n",
    "\n",
    "# Load environment variables\n",
    "load_dotenv()\n",
    "\n",
    "langtrace.init()\n",
    "\n",
    "import os\n",
    "import yaml\n",
    "from crewai import Agent, Task, Crew, LLM\n"
   ]
  },
  {
   "cell_type": "markdown",
   "id": "66752d49-82ae-4b58-b76b-fc57c6b5f23e",
   "metadata": {},
   "source": [
    "<p style=\"background-color:#fff6ff; padding:15px; border-width:3px; border-color:#efe6ef; border-style:solid; border-radius:6px\"> 💻 &nbsp; <b>Access <code>requirements.txt</code> and <code>helper.py</code> files:</b> 1) click on the <em>\"File\"</em> option on the top menu of the notebook and then 2) click on <em>\"Open\"</em>. For more help, please see the <em>\"Appendix - Tips and Help\"</em> Lesson.</p>"
   ]
  },
  {
   "cell_type": "markdown",
   "id": "b930b575-a2d5-467b-878f-de78e10b6ba5",
   "metadata": {},
   "source": [
    "## Set OpenAI Model"
   ]
  },
  {
   "cell_type": "code",
   "execution_count": 2,
   "id": "91cb8100-3058-4cdc-969b-c64a46a408e4",
   "metadata": {
    "height": 30
   },
   "outputs": [],
   "source": [
    "os.environ['OPENAI_MODEL_NAME'] = 'gpt-4o-mini'\n",
    "deepseek_api_key = os.getenv('DEEPSEEK_API_KEY')"
   ]
  },
  {
   "cell_type": "markdown",
   "id": "96b83836-9ccb-47d7-a97b-9a68aebfaa42",
   "metadata": {},
   "source": [
    "## Loading Tasks and Agents YAML files"
   ]
  },
  {
   "cell_type": "code",
   "execution_count": 3,
   "id": "5a4e362d-c010-43dd-88c4-e7db87834fb4",
   "metadata": {
    "height": 268
   },
   "outputs": [],
   "source": [
    "# Define file paths for YAML configurations\n",
    "files = {\n",
    "    'agents': 'config/agents.yaml',\n",
    "    'tasks': 'config/tasks.yaml'\n",
    "}\n",
    "\n",
    "# Load configurations from YAML files\n",
    "configs = {}\n",
    "for config_type, file_path in files.items():\n",
    "    with open(file_path, 'r') as file:\n",
    "        configs[config_type] = yaml.safe_load(file)\n",
    "\n",
    "# Assign loaded configurations to specific variables\n",
    "agents_config = configs['agents']\n",
    "tasks_config = configs['tasks']"
   ]
  },
  {
   "cell_type": "markdown",
   "id": "c5f50c89-a326-4e4c-93a1-79be3fcda14b",
   "metadata": {},
   "source": [
    "## Create Pydantic Models for Structured Output"
   ]
  },
  {
   "cell_type": "code",
   "execution_count": 4,
   "id": "0e8626d2-e48a-4b7e-a061-a8eb492c9036",
   "metadata": {
    "height": 268
   },
   "outputs": [],
   "source": [
    "from typing import List\n",
    "from pydantic import BaseModel, Field\n",
    "\n",
    "class TaskEstimate(BaseModel):\n",
    "    task_name: str = Field(..., description=\"Name of the task\")\n",
    "    estimated_time_hours: float = Field(..., description=\"Estimated time to complete the task in hours\")\n",
    "    required_resources: List[str] = Field(..., description=\"List of resources required to complete the task\")\n",
    "\n",
    "class Milestone(BaseModel):\n",
    "    milestone_name: str = Field(..., description=\"Name of the milestone\")\n",
    "    tasks: List[str] = Field(..., description=\"List of task IDs associated with this milestone\")\n",
    "\n",
    "class ProjectPlan(BaseModel):\n",
    "    tasks: List[TaskEstimate] = Field(..., description=\"List of tasks with their estimates\")\n",
    "    milestones: List[Milestone] = Field(..., description=\"List of project milestones\")"
   ]
  },
  {
   "cell_type": "markdown",
   "id": "92d6524c-48e7-460e-8345-3b7a872b714a",
   "metadata": {},
   "source": [
    "## Create Crew, Agents and Tasks"
   ]
  },
  {
   "cell_type": "code",
   "execution_count": 5,
   "id": "a655927f-c10c-4c06-852a-d9c96fdfbfb9",
   "metadata": {
    "height": 761
   },
   "outputs": [],
   "source": [
    "# create LLM instance\n",
    "deepseek_llm = LLM(\n",
    "    model=\"deepseek/deepseek-chat\",\n",
    "    api_key=deepseek_api_key,\n",
    "    temperature=1.5\n",
    ")\n",
    "\n",
    "# Creating Agents\n",
    "project_planning_agent = Agent(\n",
    "  config=agents_config['project_planning_agent'],\n",
    "  # llm=deepseek_llm\n",
    ")\n",
    "\n",
    "estimation_agent = Agent(\n",
    "  config=agents_config['estimation_agent']\n",
    ")\n",
    "\n",
    "resource_allocation_agent = Agent(\n",
    "  config=agents_config['resource_allocation_agent']\n",
    ")\n",
    "\n",
    "# Creating Tasks\n",
    "task_breakdown = Task(\n",
    "  config=tasks_config['task_breakdown'],\n",
    "  agent=project_planning_agent\n",
    ")\n",
    "\n",
    "time_resource_estimation = Task(\n",
    "  config=tasks_config['time_resource_estimation'],\n",
    "  agent=estimation_agent\n",
    ")\n",
    "\n",
    "resource_allocation = Task(\n",
    "  config=tasks_config['resource_allocation'],\n",
    "  agent=resource_allocation_agent,\n",
    "  output_pydantic=ProjectPlan # This is the structured output we want\n",
    ")\n",
    "\n",
    "# Creating Crew\n",
    "crew = Crew(\n",
    "  agents=[\n",
    "    project_planning_agent,\n",
    "    estimation_agent,\n",
    "    resource_allocation_agent\n",
    "  ],\n",
    "  tasks=[\n",
    "    task_breakdown,\n",
    "    time_resource_estimation,\n",
    "    resource_allocation\n",
    "  ],\n",
    "  verbose=True\n",
    ")"
   ]
  },
  {
   "cell_type": "markdown",
   "id": "51b901cf-3630-4662-81a7-762da6773d3b",
   "metadata": {},
   "source": [
    "## Crew's Inputs"
   ]
  },
  {
   "cell_type": "code",
   "execution_count": 6,
   "id": "9e861574-0f9b-4f2c-b2d1-a230fc3a53a3",
   "metadata": {
    "height": 693
   },
   "outputs": [
    {
     "data": {
      "text/markdown": [
       "\n",
       "**Project Type:** Website\n",
       "\n",
       "**Project Objectives:** Create a website for a small business\n",
       "\n",
       "**Industry:** Technology\n",
       "\n",
       "**Team Members:**\n",
       "\n",
       "- John Doe (Project Manager)\n",
       "- Jane Doe (Software Engineer)\n",
       "- Bob Smith (Designer)\n",
       "- Alice Johnson (QA Engineer)\n",
       "- Tom Brown (QA Engineer)\n",
       "\n",
       "**Project Requirements:**\n",
       "\n",
       "- Create a responsive design that works well on desktop and mobile devices\n",
       "- Implement a modern, visually appealing user interface with a clean look\n",
       "- Develop a user-friendly navigation system with intuitive menu structure\n",
       "- Include an \"About Us\" page highlighting the company's history and values\n",
       "- Design a \"Services\" page showcasing the business's offerings with descriptions\n",
       "- Create a \"Contact Us\" page with a form and integrated map for communication\n",
       "- Implement a blog section for sharing industry news and company updates\n",
       "- Ensure fast loading times and optimize for search engines (SEO)\n",
       "- Integrate social media links and sharing capabilities\n",
       "- Include a testimonials section to showcase customer feedback and build trust\n",
       "\n"
      ],
      "text/plain": [
       "<IPython.core.display.Markdown object>"
      ]
     },
     "metadata": {},
     "output_type": "display_data"
    }
   ],
   "source": [
    "from IPython.display import display, Markdown\n",
    "\n",
    "project = 'Website'\n",
    "industry = 'Technology'\n",
    "project_objectives = 'Create a website for a small business'\n",
    "team_members = \"\"\"\n",
    "- John Doe (Project Manager)\n",
    "- Jane Doe (Software Engineer)\n",
    "- Bob Smith (Designer)\n",
    "- Alice Johnson (QA Engineer)\n",
    "- Tom Brown (QA Engineer)\n",
    "\"\"\"\n",
    "project_requirements = \"\"\"\n",
    "- Create a responsive design that works well on desktop and mobile devices\n",
    "- Implement a modern, visually appealing user interface with a clean look\n",
    "- Develop a user-friendly navigation system with intuitive menu structure\n",
    "- Include an \"About Us\" page highlighting the company's history and values\n",
    "- Design a \"Services\" page showcasing the business's offerings with descriptions\n",
    "- Create a \"Contact Us\" page with a form and integrated map for communication\n",
    "- Implement a blog section for sharing industry news and company updates\n",
    "- Ensure fast loading times and optimize for search engines (SEO)\n",
    "- Integrate social media links and sharing capabilities\n",
    "- Include a testimonials section to showcase customer feedback and build trust\n",
    "\"\"\"\n",
    "\n",
    "# Format the dictionary as Markdown for a better display in Jupyter Lab\n",
    "formatted_output = f\"\"\"\n",
    "**Project Type:** {project}\n",
    "\n",
    "**Project Objectives:** {project_objectives}\n",
    "\n",
    "**Industry:** {industry}\n",
    "\n",
    "**Team Members:**\n",
    "{team_members}\n",
    "**Project Requirements:**\n",
    "{project_requirements}\n",
    "\"\"\"\n",
    "# Display the formatted output as Markdown\n",
    "display(Markdown(formatted_output))"
   ]
  },
  {
   "cell_type": "markdown",
   "id": "15198e13-e9ec-44d8-b15e-c97b7b7320bb",
   "metadata": {},
   "source": [
    "## Kicking off the crew"
   ]
  },
  {
   "cell_type": "code",
   "execution_count": 7,
   "id": "fa40b53e-0a49-4198-a263-c79a6a3af603",
   "metadata": {
    "height": 234
   },
   "outputs": [
    {
     "name": "stdout",
     "output_type": "stream",
     "text": [
      "\u001b[1m\u001b[95m# Agent:\u001b[00m \u001b[1m\u001b[92mThe Ultimate Project Planner\u001b[00m\n",
      "\u001b[95m## Task:\u001b[00m \u001b[92mCarefully analyze the project_requirements for the Website project and break them down into individual tasks. Define each task's scope in detail, set achievable timelines, and ensure that all dependencies are accounted for:\n",
      "\n",
      "- Create a responsive design that works well on desktop and mobile devices\n",
      "- Implement a modern, visually appealing user interface with a clean look\n",
      "- Develop a user-friendly navigation system with intuitive menu structure\n",
      "- Include an \"About Us\" page highlighting the company's history and values\n",
      "- Design a \"Services\" page showcasing the business's offerings with descriptions\n",
      "- Create a \"Contact Us\" page with a form and integrated map for communication\n",
      "- Implement a blog section for sharing industry news and company updates\n",
      "- Ensure fast loading times and optimize for search engines (SEO)\n",
      "- Integrate social media links and sharing capabilities\n",
      "- Include a testimonials section to showcase customer feedback and build trust\n",
      "\n",
      "\n",
      "Team members:\n",
      "\n",
      "- John Doe (Project Manager)\n",
      "- Jane Doe (Software Engineer)\n",
      "- Bob Smith (Designer)\n",
      "- Alice Johnson (QA Engineer)\n",
      "- Tom Brown (QA Engineer)\n",
      "\n",
      "\u001b[00m\n",
      "\n",
      "\n",
      "\u001b[1m\u001b[95m# Agent:\u001b[00m \u001b[1m\u001b[92mThe Ultimate Project Planner\u001b[00m\n",
      "\u001b[95m## Final Answer:\u001b[00m \u001b[92m\n",
      "### Website Project Breakdown\n",
      "\n",
      "#### Project Requirements and Task Breakdown\n",
      "\n",
      "1. **Create Responsive Design**\n",
      "   - **Description**: Design a website layout that adjusts smoothly for both desktop and mobile devices.\n",
      "   - **Scope**: Includes wireframing, visual mockups, and testing on various screen sizes.\n",
      "   - **Timeline**: Week 1 - Week 2\n",
      "   - **Dependencies**: None\n",
      "   - **Deliverables**: Responsive design mockups.\n",
      "\n",
      "2. **Implement Modern, Visually Appealing UI**\n",
      "   - **Description**: Develop an attractive interface that reflects the brand identity with a clean look.\n",
      "   - **Scope**: Focus on color schemes, typography, and visual hierarchy.\n",
      "   - **Timeline**: Week 2 - Week 3\n",
      "   - **Dependencies**: Completion of responsive design.\n",
      "   - **Deliverables**: Completed UI components and style guide.\n",
      "\n",
      "3. **Develop User-friendly Navigation System**\n",
      "   - **Description**: Create a clear and intuitive menu structure that enhances user experience.\n",
      "   - **Scope**: Includes main menus, submenus, and mobile navigation.\n",
      "   - **Timeline**: Week 3 - Week 4\n",
      "   - **Dependencies**: Completion of visual design.\n",
      "   - **Deliverables**: Finalized navigation structure.\n",
      "\n",
      "4. **Include an \"About Us\" Page**\n",
      "   - **Description**: Provide company background, history, and values.\n",
      "   - **Scope**: Content writing, layout design, and integration into the website.\n",
      "   - **Timeline**: Week 4 - Week 5\n",
      "   - **Dependencies**: Finalized UI.\n",
      "   - **Deliverables**: Completed \"About Us\" page.\n",
      "\n",
      "5. **Design a \"Services\" Page**\n",
      "   - **Description**: Outline and describe all services offered by the business.\n",
      "   - **Scope**: Content writing and design layouts for each service.\n",
      "   - **Timeline**: Week 5 - Week 6\n",
      "   - **Dependencies**: Completion of \"About Us\" page.\n",
      "   - **Deliverables**: Completed \"Services\" page.\n",
      "\n",
      "6. **Create a \"Contact Us\" Page**\n",
      "   - **Description**: Feature a form for inquiries and an integrated map for location reference.\n",
      "   - **Scope**: Form functionality, map integration, and user interface design.\n",
      "   - **Timeline**: Week 6 - Week 7\n",
      "   - **Dependencies**: Completion of \"Services\" page.\n",
      "   - **Deliverables**: Completed \"Contact Us\" page.\n",
      "\n",
      "7. **Implement a Blog Section**\n",
      "   - **Description**: Allow for dynamic content sharing regarding industry news and company updates.\n",
      "   - **Scope**: Blog layout, content management system, and comment functionalities.\n",
      "   - **Timeline**: Week 7 - Week 8\n",
      "   - **Dependencies**: Completion of \"Contact Us\" page.\n",
      "   - **Deliverables**: Functional blog section.\n",
      "\n",
      "8. **Ensure Fast Loading Times & SEO Optimization**\n",
      "   - **Description**: Enhance performance and visibility of the website through optimization techniques.\n",
      "   - **Scope**: Optimize images, implement caching, and perform keyword research.\n",
      "   - **Timeline**: Week 8 - Week 9\n",
      "   - **Dependencies**: Completion of all previous pages.\n",
      "   - **Deliverables**: Optimized website.\n",
      "\n",
      "9. **Integrate Social Media Links**\n",
      "   - **Description**: Connect the website to the business's social media accounts.\n",
      "   - **Scope**: Add social media buttons and sharing capabilities across content.\n",
      "   - **Timeline**: Week 9 - Week 10\n",
      "   - **Dependencies**: Completion of previous website pages.\n",
      "   - **Deliverables**: Integrated social media features.\n",
      "\n",
      "10. **Include Testimonials Section**\n",
      "    - **Description**: Showcase customer feedback to build trust and encourage service adoption.\n",
      "    - **Scope**: Collect, edit, and integrate testimonials into the website.\n",
      "    - **Timeline**: Week 10 - Week 11\n",
      "    - **Dependencies**: Completion of all previous sections.\n",
      "    - **Deliverables**: Live testimonials section.\n",
      "\n",
      "### Team Responsibilities\n",
      "\n",
      "- **John Doe (Project Manager)**: Overall project oversight, ensure deadlines are met.\n",
      "- **Jane Doe (Software Engineer)**: Development of all technical aspects.\n",
      "- **Bob Smith (Designer)**: Responsible for all visual design and user interface components.\n",
      "- **Alice Johnson (QA Engineer)**: Testing functionality and usability of the website.\n",
      "- **Tom Brown (QA Engineer)**: Performance testing and SEO verification.\n",
      "\n",
      "### Timeline Visualization (Gantt Chart)\n",
      "\n",
      "```plaintext\n",
      "| Task                                | Week 1 | Week 2 | Week 3 | Week 4 | Week 5 | Week 6 | Week 7 | Week 8 | Week 9 | Week 10 | Week 11 |\n",
      "|-------------------------------------|--------|--------|--------|--------|--------|--------|--------|--------|--------|---------|---------|\n",
      "| Create Responsive Design            | ██████████████████████████████████ |        |        |        |        |        |        |        |        |         |         |\n",
      "| Implement Modern UI                 |        | ████████████████████████████    |        |        |        |        |        |        |        |         |         |\n",
      "| Develop Navigation System           |        |        | █████████████████████████��      |        |        |        |        |        |        |         |         |\n",
      "| Include \"About Us\" Page            |        |        |        | ██████████████████████          |        |        |        |        |        |         |         |\n",
      "| Design \"Services\" Page             |        |        |        |        | ██████████████████████          |        |        |        |        |         |         |\n",
      "| Create \"Contact Us\" Page           |        |        |        |        |        | ████████████████████            |        |        |        |         |         |\n",
      "| Implement Blog Section              |        |        |        |        |        |        | ████████████████████            |        |        |         |         |\n",
      "| Optimize Performance & SEO          |        |        |        |        |        |        |        | ████████████████            |        |         |         |\n",
      "| Integrate Social Media Links        |        |        |        |        |        |        |        |        | ████████████████████        |         |         |\n",
      "| Include Testimonials Section         |        |        |        |        |        |        |        |        |        | ██████████  |         |\n",
      "```\n",
      "\n",
      "This project plan accounts for all tasks necessary to successfully create the small business website, ensuring each step is actionable with clear timelines and responsibilities assigned to the team members. Regular progress checks will be necessary to keep the project on track, with potential adjustments made as required. \n",
      "\n",
      "By following this structured approach, we aim to deliver a high-quality website that meets the agreed specifications on time and within scope, and ultimately positions the small business for success online.\u001b[00m\n",
      "\n",
      "\n",
      "\u001b[1m\u001b[95m# Agent:\u001b[00m \u001b[1m\u001b[92mExpert Estimation Analyst\u001b[00m\n",
      "\u001b[95m## Task:\u001b[00m \u001b[92mThoroughly evaluate each task in the Website project to estimate the time, resources, and effort required. Use historical data, task complexity, and available resources to provide a realistic estimation for each task.\n",
      "\u001b[00m\n",
      "\n",
      "\n",
      "\u001b[1m\u001b[95m# Agent:\u001b[00m \u001b[1m\u001b[92mExpert Estimation Analyst\u001b[00m\n",
      "\u001b[95m## Final Answer:\u001b[00m \u001b[92m\n",
      "### Detailed Estimation Report for Website Project\n",
      "\n",
      "#### 1. Create Responsive Design\n",
      "- **Time Required**: 40 hours\n",
      "- **Resources Needed**: 1 Designer (Bob Smith)\n",
      "- **Effort**: High complexity due to multiple screen sizes\n",
      "- **Risks/Uncertainties**: Ensure design is compatible with all browsers, potential iterations may be required based on client feedback.\n",
      "\n",
      "#### 2. Implement Modern, Visually Appealing UI\n",
      "- **Time Required**: 60 hours\n",
      "- **Resources Needed**: 1 Software Engineer (Jane Doe), 1 Designer (Bob Smith)\n",
      "- **Effort**: Medium complexity; needs thorough brand alignment\n",
      "- **Risks/Uncertainties**: Design might change at this stage, leading to rework.\n",
      "\n",
      "#### 3. Develop User-friendly Navigation System\n",
      "- **Time Required**: 30 hours\n",
      "- **Resources Needed**: 1 Software Engineer (Jane Doe), 1 Designer (Bob Smith)\n",
      "- **Effort**: Medium complexity, requires collaboration on layout\n",
      "- **Risks/Uncertainties**: User feedback might necessitate changes.\n",
      "\n",
      "#### 4. Include an \"About Us\" Page\n",
      "- **Time Required**: 20 hours\n",
      "- **Resources Needed**: 1 Writer/Content Creator (will be assigned), 1 Designer (Bob Smith)\n",
      "- **Effort**: Low complexity; primarily relies on copywriting\n",
      "- **Risks/Uncertainties**: Delays in gathering accurate company history/content.\n",
      "\n",
      "#### 5. Design a \"Services\" Page\n",
      "- **Time Required**: 30 hours\n",
      "- **Resources Needed**: 1 Writer/Content Creator (will be assigned), 1 Designer (Bob Smith)\n",
      "- **Effort**: Medium complexity; content requirements may vary\n",
      "- **Risks/Uncertainties**: Potential for changes to service offerings.\n",
      "\n",
      "#### 6. Create a \"Contact Us\" Page\n",
      "- **Time Required**: 25 hours\n",
      "- **Resources Needed**: 1 Software Engineer (Jane Doe), 1 Designer (Bob Smith)\n",
      "- **Effort**: Medium complexity, requires functional integration\n",
      "- **Risks/Uncertainties**: Issues with form functionality or Google Maps integration.\n",
      "\n",
      "#### 7. Implement a Blog Section\n",
      "- **Time Required**: 50 hours\n",
      "- **Resources Needed**: 1 Software Engineer (Jane Doe)\n",
      "- **Effort**: High complexity; requires CMS setup and testing\n",
      "- **Risks/Uncertainties**: Difficulty integrating blog with existing website infrastructure.\n",
      "\n",
      "#### 8. Ensure Fast Loading Times & SEO Optimization\n",
      "- **Time Required**: 35 hours\n",
      "- **Resources Needed**: 1 Software Engineer (Jane Doe), 1 QA Engineer (Tom Brown)\n",
      "- **Effort**: High complexity; technical SEO requires detailed attention\n",
      "- **Risks/Uncertainties**: Implementation of optimization techniques may vary in efficacy.\n",
      "\n",
      "#### 9. Integrate Social Media Links\n",
      "- **Time Required**: 15 hours\n",
      "- **Resources Needed**: 1 Software Engineer (Jane Doe)\n",
      "- **Effort**: Low complexity; establishing connections and buttons\n",
      "- **Risks/Uncertainties**: Updates with social media APIs could affect integration process.\n",
      "\n",
      "#### 10. Include Testimonials Section\n",
      "- **Time Required**: 20 hours\n",
      "- **Resources Needed**: 1 Writer/Content Creator (will be assigned), 1 Software Engineer (Jane Doe)\n",
      "- **Effort**: Low to medium complexity; result dependent on client input\n",
      "- **Risks/Uncertainties**: Potential delays in collecting testimonials from clients.\n",
      "\n",
      "### Summary of Time, Resources, and Effort\n",
      "- **Total Estimated Time**: 405 hours\n",
      "- **Total Resources Needed**: \n",
      "  - 1 Project Manager (John Doe)\n",
      "  - 2 Software Engineers (Jane Doe and QA Engineer Tom Brown for optimizations)\n",
      "  - 1 Designer (Bob Smith)\n",
      "  - 1 Writer/Content Creator (to be assigned)\n",
      "  \n",
      "### Summary of Risks and Uncertainties\n",
      "1. **Design Compatibility**: Ensuring responsive design works seamlessly across all devices and browsers may require further reviews and adjustments.\n",
      "2. **Content Collaboration**: Coordination between the content creator and designers may face delays affecting the overall timeline, especially for pages reliant on up-to-date information.\n",
      "3. **User Feedback Necessity**: Mid-project user feedback could necessitate iterative changes, potentially increasing workload and timeframes.\n",
      "4. **Technical Challenges**: Challenges may arise during the implementation of advanced features such as blogs and SEO optimizations, which can amplify resource requirements.\n",
      "\n",
      "By following this detailed estimation structure, we can maximize the project’s efficiency, anticipate potential challenges, and ensure timely delivery within budget constraints while maintaining high-quality outputs.\u001b[00m\n",
      "\n",
      "\n",
      "\u001b[1m\u001b[95m# Agent:\u001b[00m \u001b[1m\u001b[92mResource Allocation Strategist\u001b[00m\n",
      "\u001b[95m## Task:\u001b[00m \u001b[92mStrategically allocate tasks for the Website project to team members based on their skills, availability, and current workload. Ensure that each task is assigned to the most suitable team member and that the workload is evenly distributed.\n",
      "\n",
      "Team members:\n",
      "\n",
      "- John Doe (Project Manager)\n",
      "- Jane Doe (Software Engineer)\n",
      "- Bob Smith (Designer)\n",
      "- Alice Johnson (QA Engineer)\n",
      "- Tom Brown (QA Engineer)\n",
      "\n",
      "\u001b[00m\n",
      "\n",
      "\n",
      "\u001b[1m\u001b[95m# Agent:\u001b[00m \u001b[1m\u001b[92mResource Allocation Strategist\u001b[00m\n",
      "\u001b[95m## Final Answer:\u001b[00m \u001b[92m\n",
      "{\n",
      "  \"tasks\": [\n",
      "    {\n",
      "      \"task_name\": \"Create Responsive Design\",\n",
      "      \"estimated_time_hours\": 40,\n",
      "      \"required_resources\": [\"Bob Smith\"]\n",
      "    },\n",
      "    {\n",
      "      \"task_name\": \"Implement Modern, Visually Appealing UI\",\n",
      "      \"estimated_time_hours\": 60,\n",
      "      \"required_resources\": [\"Jane Doe\", \"Bob Smith\"]\n",
      "    },\n",
      "    {\n",
      "      \"task_name\": \"Develop User-friendly Navigation System\",\n",
      "      \"estimated_time_hours\": 30,\n",
      "      \"required_resources\": [\"Jane Doe\", \"Bob Smith\"]\n",
      "    },\n",
      "    {\n",
      "      \"task_name\": \"Include an 'About Us' Page\",\n",
      "      \"estimated_time_hours\": 20,\n",
      "      \"required_resources\": [\"Writer/Content Creator (to be assigned)\", \"Bob Smith\"]\n",
      "    },\n",
      "    {\n",
      "      \"task_name\": \"Design a 'Services' Page\",\n",
      "      \"estimated_time_hours\": 30,\n",
      "      \"required_resources\": [\"Writer/Content Creator (to be assigned)\", \"Bob Smith\"]\n",
      "    },\n",
      "    {\n",
      "      \"task_name\": \"Create a 'Contact Us' Page\",\n",
      "      \"estimated_time_hours\": 25,\n",
      "      \"required_resources\": [\"Jane Doe\", \"Bob Smith\"]\n",
      "    },\n",
      "    {\n",
      "      \"task_name\": \"Implement a Blog Section\",\n",
      "      \"estimated_time_hours\": 50,\n",
      "      \"required_resources\": [\"Jane Doe\"]\n",
      "    },\n",
      "    {\n",
      "      \"task_name\": \"Ensure Fast Loading Times & SEO Optimization\",\n",
      "      \"estimated_time_hours\": 35,\n",
      "      \"required_resources\": [\"Jane Doe\", \"Tom Brown\"]\n",
      "    },\n",
      "    {\n",
      "      \"task_name\": \"Integrate Social Media Links\",\n",
      "      \"estimated_time_hours\": 15,\n",
      "      \"required_resources\": [\"Jane Doe\"]\n",
      "    },\n",
      "    {\n",
      "      \"task_name\": \"Include Testimonials Section\",\n",
      "      \"estimated_time_hours\": 20,\n",
      "      \"required_resources\": [\"Writer/Content Creator (to be assigned)\", \"Jane Doe\"]\n",
      "    }\n",
      "  ],\n",
      "  \"milestones\": [\n",
      "    {\n",
      "      \"milestone_name\": \"Design Phase Completion\",\n",
      "      \"tasks\": [\n",
      "        \"Create Responsive Design\",\n",
      "        \"Implement Modern, Visually Appealing UI\",\n",
      "        \"Develop User-friendly Navigation System\",\n",
      "        \"Include an 'About Us' Page\",\n",
      "        \"Design a 'Services' Page\"\n",
      "      ]\n",
      "    },\n",
      "    {\n",
      "      \"milestone_name\": \"Development Phase Completion\",\n",
      "      \"tasks\": [\n",
      "        \"Create a 'Contact Us' Page\",\n",
      "        \"Implement a Blog Section\",\n",
      "        \"Ensure Fast Loading Times & SEO Optimization\",\n",
      "        \"Integrate Social Media Links\"\n",
      "      ]\n",
      "    },\n",
      "    {\n",
      "      \"milestone_name\": \"Final QA Testing\",\n",
      "      \"tasks\": [\n",
      "        \"Include Testimonials Section\"\n",
      "      ]\n",
      "    }\n",
      "  ]\n",
      "}\n",
      "\n",
      "### Rationale Behind Allocation Decisions:\n",
      "1. **Bob Smith (Designer)** has the primary responsibility for design tasks due to his expertise, ensuring a cohesive and quality design across all user interface elements. He is assigned to all design tasks, which leverages his skills effectively without overextending him.\n",
      "  \n",
      "2. **Jane Doe (Software Engineer)** is allocated to tasks requiring technical implementation. She is responsible for UI implementation, navigation systems, contact forms, the blog section, and is a secondary resource for SEO optimization due to her software engineering skills being essential for these functionalities. Careful consideration has been made to ensure her workload remains manageable.\n",
      "\n",
      "3. **Tom Brown (QA Engineer)** is assigned to SEO optimization where high technical accuracy is needed, as well as facilitating usability testing later in the project to maintain site quality.\n",
      "\n",
      "4. **Writer/Content Creator** tasks remain to be assigned, as they will complement design work on the \"About Us,\" \"Services,\" and \"Testimonials\" sections. This is to ensure the most current content is created and aligns with design elements.\n",
      "\n",
      "The distribution of tasks follows a clear sequence of design, development, and QA phases to allow for iterative feedback, leveraging team member skills appropriately while maintaining a balanced workload throughout the project timeline. This strategic allocation is expected to drive efficiency, foster collaboration, and ensure the overall success of the Website project.\u001b[00m\n",
      "\n",
      "\n",
      "Total costs: $0.0010\n",
      "Total costs: $0.0010\n",
      "Total costs: $0.0010\n",
      "Total costs: $0.0010\n",
      "Total costs: $0.0010\n",
      "Total costs: $0.0010\n"
     ]
    }
   ],
   "source": [
    "# The given Python dictionary\n",
    "inputs = {\n",
    "  'project_type': project,\n",
    "  'project_objectives': project_objectives,\n",
    "  'industry': industry,\n",
    "  'team_members': team_members,\n",
    "  'project_requirements': project_requirements\n",
    "}\n",
    "\n",
    "# Run the crew\n",
    "result = crew.kickoff(\n",
    "  inputs=inputs\n",
    ")"
   ]
  },
  {
   "cell_type": "markdown",
   "id": "7879258f-52df-4503-b08e-acd516d0a946",
   "metadata": {},
   "source": [
    "## Usage Metrics and Costs"
   ]
  },
  {
   "cell_type": "markdown",
   "id": "d94dad33-91c9-4aac-8e16-24117dbbef46",
   "metadata": {},
   "source": [
    "Let’s see how much it would cost each time if this crew runs at scale."
   ]
  },
  {
   "cell_type": "code",
   "execution_count": 13,
   "id": "66b3b165-2a4b-46cc-93f7-696dffff1e10",
   "metadata": {
    "height": 149
   },
   "outputs": [
    {
     "data": {
      "text/html": [
       "<div>\n",
       "<style scoped>\n",
       "    .dataframe tbody tr th:only-of-type {\n",
       "        vertical-align: middle;\n",
       "    }\n",
       "\n",
       "    .dataframe tbody tr th {\n",
       "        vertical-align: top;\n",
       "    }\n",
       "\n",
       "    .dataframe thead th {\n",
       "        text-align: right;\n",
       "    }\n",
       "</style>\n",
       "<table border=\"1\" class=\"dataframe\">\n",
       "  <thead>\n",
       "    <tr style=\"text-align: right;\">\n",
       "      <th></th>\n",
       "      <th>total_tokens</th>\n",
       "      <th>prompt_tokens</th>\n",
       "      <th>cached_prompt_tokens</th>\n",
       "      <th>completion_tokens</th>\n",
       "      <th>successful_requests</th>\n",
       "    </tr>\n",
       "  </thead>\n",
       "  <tbody>\n",
       "    <tr>\n",
       "      <th>0</th>\n",
       "      <td>6999</td>\n",
       "      <td>3680</td>\n",
       "      <td>0</td>\n",
       "      <td>3319</td>\n",
       "      <td>3</td>\n",
       "    </tr>\n",
       "  </tbody>\n",
       "</table>\n",
       "</div>"
      ],
      "text/plain": [
       "   total_tokens  prompt_tokens  cached_prompt_tokens  completion_tokens  \\\n",
       "0          6999           3680                     0               3319   \n",
       "\n",
       "   successful_requests  \n",
       "0                    3  "
      ]
     },
     "execution_count": 13,
     "metadata": {},
     "output_type": "execute_result"
    }
   ],
   "source": [
    "import pandas as pd\n",
    "\n",
    "costs = 0.150 * (crew.usage_metrics.prompt_tokens + crew.usage_metrics.completion_tokens) / 1_000_000\n",
    "print(f\"Total costs: ${costs:.4f}\")\n",
    "\n",
    "# Convert UsageMetrics instance to a DataFrame\n",
    "df_usage_metrics = pd.DataFrame([crew.usage_metrics.model_dump()])\n",
    "df_usage_metrics"
   ]
  },
  {
   "cell_type": "markdown",
   "id": "4982e83a-9e54-4510-9f06-751b34848287",
   "metadata": {},
   "source": [
    "## Result"
   ]
  },
  {
   "cell_type": "code",
   "execution_count": 15,
   "id": "6396b0f6-e3ae-4a89-a3e9-ca53aa042c40",
   "metadata": {
    "height": 30
   },
   "outputs": [
    {
     "data": {
      "text/plain": [
       "{'tasks': [{'task_name': 'Create Responsive Design',\n",
       "   'estimated_time_hours': 40.0,\n",
       "   'required_resources': ['Bob Smith']},\n",
       "  {'task_name': 'Implement Modern, Visually Appealing UI',\n",
       "   'estimated_time_hours': 60.0,\n",
       "   'required_resources': ['Jane Doe', 'Bob Smith']},\n",
       "  {'task_name': 'Develop User-friendly Navigation System',\n",
       "   'estimated_time_hours': 30.0,\n",
       "   'required_resources': ['Jane Doe', 'Bob Smith']},\n",
       "  {'task_name': \"Include an 'About Us' Page\",\n",
       "   'estimated_time_hours': 20.0,\n",
       "   'required_resources': ['Writer/Content Creator (to be assigned)',\n",
       "    'Bob Smith']},\n",
       "  {'task_name': \"Design a 'Services' Page\",\n",
       "   'estimated_time_hours': 30.0,\n",
       "   'required_resources': ['Writer/Content Creator (to be assigned)',\n",
       "    'Bob Smith']},\n",
       "  {'task_name': \"Create a 'Contact Us' Page\",\n",
       "   'estimated_time_hours': 25.0,\n",
       "   'required_resources': ['Jane Doe', 'Bob Smith']},\n",
       "  {'task_name': 'Implement a Blog Section',\n",
       "   'estimated_time_hours': 50.0,\n",
       "   'required_resources': ['Jane Doe']},\n",
       "  {'task_name': 'Ensure Fast Loading Times & SEO Optimization',\n",
       "   'estimated_time_hours': 35.0,\n",
       "   'required_resources': ['Jane Doe', 'Tom Brown']},\n",
       "  {'task_name': 'Integrate Social Media Links',\n",
       "   'estimated_time_hours': 15.0,\n",
       "   'required_resources': ['Jane Doe']},\n",
       "  {'task_name': 'Include Testimonials Section',\n",
       "   'estimated_time_hours': 20.0,\n",
       "   'required_resources': ['Writer/Content Creator (to be assigned)',\n",
       "    'Jane Doe']}],\n",
       " 'milestones': [{'milestone_name': 'Design Phase Completion',\n",
       "   'tasks': ['Create Responsive Design',\n",
       "    'Implement Modern, Visually Appealing UI',\n",
       "    'Develop User-friendly Navigation System',\n",
       "    \"Include an 'About Us' Page\",\n",
       "    \"Design a 'Services' Page\"]},\n",
       "  {'milestone_name': 'Development Phase Completion',\n",
       "   'tasks': [\"Create a 'Contact Us' Page\",\n",
       "    'Implement a Blog Section',\n",
       "    'Ensure Fast Loading Times & SEO Optimization',\n",
       "    'Integrate Social Media Links']},\n",
       "  {'milestone_name': 'Final QA Testing',\n",
       "   'tasks': ['Include Testimonials Section']}]}"
      ]
     },
     "execution_count": 15,
     "metadata": {},
     "output_type": "execute_result"
    }
   ],
   "source": [
    "result.pydantic.model_dump()"
   ]
  },
  {
   "cell_type": "markdown",
   "id": "18ffcc83-350e-4f99-b03b-458690cc0ed2",
   "metadata": {},
   "source": [
    "## Inspect further"
   ]
  },
  {
   "cell_type": "code",
   "execution_count": null,
   "id": "da1bbf90-4bfc-4529-84dd-d0bd00198353",
   "metadata": {
    "height": 132
   },
   "outputs": [],
   "source": [
    "tasks = result.pydantic.dict()['tasks']\n",
    "df_tasks = pd.DataFrame(tasks)\n",
    "\n",
    "# Display the DataFrame as an HTML table\n",
    "df_tasks.style.set_table_attributes('border=\"1\"').set_caption(\"Task Details\").set_table_styles(\n",
    "    [{'selector': 'th, td', 'props': [('font-size', '120%')]}]\n",
    ")"
   ]
  },
  {
   "cell_type": "markdown",
   "id": "1210cae8-e028-4f7e-90ed-950ef86d41e5",
   "metadata": {},
   "source": [
    "### Inspecting Milestones"
   ]
  },
  {
   "cell_type": "code",
   "execution_count": null,
   "id": "91c2f18c-2d5b-41a9-837b-265e7aa245d0",
   "metadata": {
    "height": 132
   },
   "outputs": [],
   "source": [
    "milestones = result.pydantic.dict()['milestones']\n",
    "df_milestones = pd.DataFrame(milestones)\n",
    "\n",
    "# Display the DataFrame as an HTML table\n",
    "df_milestones.style.set_table_attributes('border=\"1\"').set_caption(\"Task Details\").set_table_styles(\n",
    "    [{'selector': 'th, td', 'props': [('font-size', '120%')]}]\n",
    ")"
   ]
  },
  {
   "cell_type": "code",
   "execution_count": null,
   "id": "a593fd80-36ef-48a1-a7c7-e45c37815f67",
   "metadata": {
    "height": 30
   },
   "outputs": [],
   "source": []
  },
  {
   "cell_type": "code",
   "execution_count": null,
   "id": "2e2c2526-de6d-4006-bd25-8c51e1f3d5f7",
   "metadata": {
    "height": 30
   },
   "outputs": [],
   "source": []
  },
  {
   "cell_type": "code",
   "execution_count": null,
   "id": "1ac3e1e0-e14f-446e-a912-18794337925c",
   "metadata": {
    "height": 30
   },
   "outputs": [],
   "source": []
  },
  {
   "cell_type": "code",
   "execution_count": null,
   "id": "c34b5062-29e2-4fbb-b771-02f5f547e47c",
   "metadata": {
    "height": 30
   },
   "outputs": [],
   "source": []
  },
  {
   "cell_type": "code",
   "execution_count": null,
   "id": "70303180-389e-4e90-8444-aba384ec8751",
   "metadata": {
    "height": 30
   },
   "outputs": [],
   "source": []
  },
  {
   "cell_type": "code",
   "execution_count": null,
   "id": "109926d3-50e5-43e7-87f8-a1d38e45d79d",
   "metadata": {
    "height": 30
   },
   "outputs": [],
   "source": []
  }
 ],
 "metadata": {
  "kernelspec": {
   "display_name": ".venv",
   "language": "python",
   "name": "python3"
  },
  "language_info": {
   "codemirror_mode": {
    "name": "ipython",
    "version": 3
   },
   "file_extension": ".py",
   "mimetype": "text/x-python",
   "name": "python",
   "nbconvert_exporter": "python",
   "pygments_lexer": "ipython3",
   "version": "3.12.3"
  }
 },
 "nbformat": 4,
 "nbformat_minor": 5
}
