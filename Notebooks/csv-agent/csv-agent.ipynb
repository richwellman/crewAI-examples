{
 "cells": [
  {
   "cell_type": "markdown",
   "metadata": {},
   "source": [
    "## Interacting with csv files"
   ]
  },
  {
   "cell_type": "code",
   "execution_count": 1,
   "metadata": {},
   "outputs": [],
   "source": [
    "import os \n",
    "import pandas as pd\n",
    "\n",
    "from IPython.display import Markdown, HTML, display\n",
    "from langchain.schema import HumanMessage\n",
    "from langchain_openai import ChatOpenAI\n",
    "from dotenv import load_dotenv\n",
    "\n",
    "# Load environment variables\n",
    "load_dotenv()\n",
    "\n",
    "from agentops.partners.langchain_callback_handler import (\n",
    "    LangchainCallbackHandler as AgentOpsLangchainCallbackHandler,\n",
    ")\n",
    "\n"
   ]
  },
  {
   "cell_type": "code",
   "execution_count": 2,
   "metadata": {},
   "outputs": [],
   "source": [
    "df = pd.read_csv(\"./data/all-states-history.csv\").fillna(value = 0)"
   ]
  },
  {
   "cell_type": "markdown",
   "metadata": {},
   "source": [
    "### Prepare Langchain pandas agent"
   ]
  },
  {
   "cell_type": "code",
   "execution_count": 3,
   "metadata": {},
   "outputs": [
    {
     "name": "stderr",
     "output_type": "stream",
     "text": [
      "🖇 AgentOps: \u001b[34m\u001b[34mSession Replay: https://app.agentops.ai/drilldown?session_id=7fa66339-5738-4a37-acfe-9e618ae90a47\u001b[0m\u001b[0m\n"
     ]
    },
    {
     "name": "stdout",
     "output_type": "stream",
     "text": [
      "\n",
      "\n",
      "\u001b[1m> Entering new AgentExecutor chain...\u001b[0m\n",
      "\u001b[32;1m\u001b[1;3m\n",
      "Invoking: `python_repl_ast` with `{'query': 'len(df)'}`\n",
      "\n",
      "\n",
      "\u001b[0m\u001b[36;1m\u001b[1;3m20780\u001b[0m\u001b[32;1m\u001b[1;3mThere are 20,780 rows in the dataframe.\u001b[0m\n",
      "\n",
      "\u001b[1m> Finished chain.\u001b[0m\n"
     ]
    },
    {
     "data": {
      "text/plain": [
       "{'input': 'how many rows are there?',\n",
       " 'output': 'There are 20,780 rows in the dataframe.'}"
      ]
     },
     "execution_count": 3,
     "metadata": {},
     "output_type": "execute_result"
    }
   ],
   "source": [
    "from langchain.agents.agent_types import AgentType\n",
    "from langchain_experimental.agents.agent_toolkits import create_pandas_dataframe_agent\n",
    "\n",
    "AGENTOPS_API_KEY = os.getenv(\"AGENTOPS_API_KEY\")\n",
    "\n",
    "agentops_handler = AgentOpsLangchainCallbackHandler(\n",
    "    api_key=AGENTOPS_API_KEY, default_tags=[\"Langchain Example\"]\n",
    ")\n",
    "\n",
    "llm = ChatOpenAI(\n",
    "    model=\"gpt-4o-mini\", \n",
    "    temperature=0,\n",
    "    callbacks=[agentops_handler]\n",
    ")\n",
    "\n",
    "# You must pass in a callback handler to record your agent\n",
    "llm.callbacks = [agentops_handler]\n",
    "\n",
    "agent = create_pandas_dataframe_agent(\n",
    "    llm,\n",
    "    df=df,\n",
    "    agent_type=\"tool-calling\",\n",
    "    allow_dangerous_code=True,\n",
    "    verbose=True\n",
    ")\n",
    "\n",
    "agent.invoke(\"how many rows are there?\")\n",
    "\n"
   ]
  },
  {
   "cell_type": "markdown",
   "metadata": {},
   "source": [
    "### Configure the question and ask it"
   ]
  },
  {
   "cell_type": "code",
   "execution_count": 4,
   "metadata": {},
   "outputs": [
    {
     "name": "stdout",
     "output_type": "stream",
     "text": [
      "\n",
      "\n",
      "\u001b[1m> Entering new AgentExecutor chain...\u001b[0m\n",
      "\u001b[32;1m\u001b[1;3m\n",
      "Invoking: `python_repl_ast` with `{'query': \"import pandas as pd\\n\\n# Set display options to show all columns\\npd.set_option('display.max_columns', None)\\n\\n# Get the column names\\ncolumn_names = df.columns.tolist()\\ncolumn_names\"}`\n",
      "\n",
      "\n",
      "\u001b[0m\u001b[36;1m\u001b[1;3m['date', 'state', 'death', 'deathConfirmed', 'deathIncrease', 'deathProbable', 'hospitalized', 'hospitalizedCumulative', 'hospitalizedCurrently', 'hospitalizedIncrease', 'inIcuCumulative', 'inIcuCurrently', 'negative', 'negativeIncrease', 'negativeTestsAntibody', 'negativeTestsPeopleAntibody', 'negativeTestsViral', 'onVentilatorCumulative', 'onVentilatorCurrently', 'positive', 'positiveCasesViral', 'positiveIncrease', 'positiveScore', 'positiveTestsAntibody', 'positiveTestsAntigen', 'positiveTestsPeopleAntibody', 'positiveTestsPeopleAntigen', 'positiveTestsViral', 'recovered', 'totalTestEncountersViral', 'totalTestEncountersViralIncrease', 'totalTestResults', 'totalTestResultsIncrease', 'totalTestsAntibody', 'totalTestsAntigen', 'totalTestsPeopleAntibody', 'totalTestsPeopleAntigen', 'totalTestsPeopleViral', 'totalTestsPeopleViralIncrease', 'totalTestsViral', 'totalTestsViralIncrease']\u001b[0m\u001b[32;1m\u001b[1;3m\n",
      "Invoking: `python_repl_ast` with `{'query': \"# Filter the dataframe for July 2020 and Florida\\njuly_2020_florida = df[(df['date'] >= '2020-07-01') & (df['date'] <= '2020-07-31') & (df['state'] == 'FL')]\\n\\n# Sum the hospitalizedIncrease for Florida\\nhospitalized_florida = july_2020_florida['hospitalizedIncrease'].sum()\\n\\n# Filter the dataframe for July 2020 nationwide\\njuly_2020_nationwide = df[(df['date'] >= '2020-07-01') & (df['date'] <= '2020-07-31')]\\n\\n# Sum the hospitalizedIncrease for all states\\nhospitalized_nationwide = july_2020_nationwide['hospitalizedIncrease'].sum()\\n\\nhospitalized_florida, hospitalized_nationwide\"}`\n",
      "\n",
      "\n",
      "\u001b[0m\u001b[36;1m\u001b[1;3m(np.int64(12026), np.int64(63105))\u001b[0m\u001b[32;1m\u001b[1;3m\n",
      "Invoking: `python_repl_ast` with `{'query': \"# Another method to calculate the same values using groupby\\n# Group by state and sum the hospitalizedIncrease for July 2020\\njuly_2020_grouped = df[(df['date'] >= '2020-07-01') & (df['date'] <= '2020-07-31')]\\n\\n# Get the total hospitalizedIncrease for Florida\\nhospitalized_florida_grouped = july_2020_grouped[july_2020_grouped['state'] == 'FL'].groupby('state')['hospitalizedIncrease'].sum().values[0]\\n\\n# Get the total hospitalizedIncrease nationwide\\nhospitalized_nationwide_grouped = july_2020_grouped.groupby('state')['hospitalizedIncrease'].sum().sum()\\n\\nhospitalized_florida_grouped, hospitalized_nationwide_grouped\"}`\n",
      "\n",
      "\n",
      "\u001b[0m\u001b[36;1m\u001b[1;3m(np.int64(12026), np.int64(63105))\u001b[0m\u001b[32;1m\u001b[1;3m### Final Answer\n",
      "\n",
      "- **Hospitalized Patients in Florida during July 2020:** 12,026\n",
      "- **Hospitalized Patients Nationwide during July 2020:** 63,105\n",
      "\n",
      "---\n",
      "\n",
      "### Explanation:\n",
      "\n",
      "To arrive at the final answer, I used the following steps:\n",
      "\n",
      "1. **Filtered the DataFrame** for the month of July 2020 and for the state of Florida. I then summed the values in the `hospitalizedIncrease` column to get the total number of hospitalized patients in Florida during that month.\n",
      "\n",
      "2. **Filtered the DataFrame** again for the month of July 2020, but this time for all states. I summed the values in the `hospitalizedIncrease` column to get the total number of hospitalized patients nationwide during that month.\n",
      "\n",
      "3. As a verification step, I used the `groupby` method to group the data by state and sum the `hospitalizedIncrease` for Florida and for all states, which yielded the same results.\n",
      "\n",
      "The column names used in these calculations were:\n",
      "- `hospitalizedIncrease` (to sum the increases in hospitalizations)\n",
      "- `date` (to filter the data for July 2020)\n",
      "- `state` (to filter for Florida and to group by state for nationwide totals)\n",
      "\n",
      "Both methods confirmed the same results, ensuring the accuracy of the answer.\u001b[0m\n",
      "\n",
      "\u001b[1m> Finished chain.\u001b[0m\n"
     ]
    },
    {
     "data": {
      "text/plain": [
       "{'input': '\\nFirst set the pandas display options to show all the columns,\\nget the column names, then answer the question.\\nHow may patients were hospitalized during July 2020\\nin Florida, and nationwide as the total of all states?\\nUse the hospitalizedIncrease column\\n- **ALWAYS** before giving the Final Answer, try another method.\\nThen reflect on the answers of the two methods you did and ask yourself\\nif it answers correctly the original question.\\nIf you are not sure, try another method.\\n- If the methods tried do not give the same result,reflect and\\ntry again until you have two methods that have the same result.\\n- If you still cannot arrive to a consistent result, say that\\nyou are not sure of the answer.\\n- If you are sure of the correct answer, create a beautiful\\nand thorough response using Markdown.\\n- **DO NOT MAKE UP AN ANSWER OR USE PRIOR KNOWLEDGE,\\nONLY USE THE RESULTS OF THE CALCULATIONS YOU HAVE DONE**.\\n- **ALWAYS**, as part of your \"Final Answer\", explain how you got\\nto the answer on a section that starts with: \"\\n\\nExplanation:\\n\".\\nIn the explanation, mention the column names that you used to get\\nto the final answer.\\n',\n",
       " 'output': '### Final Answer\\n\\n- **Hospitalized Patients in Florida during July 2020:** 12,026\\n- **Hospitalized Patients Nationwide during July 2020:** 63,105\\n\\n---\\n\\n### Explanation:\\n\\nTo arrive at the final answer, I used the following steps:\\n\\n1. **Filtered the DataFrame** for the month of July 2020 and for the state of Florida. I then summed the values in the `hospitalizedIncrease` column to get the total number of hospitalized patients in Florida during that month.\\n\\n2. **Filtered the DataFrame** again for the month of July 2020, but this time for all states. I summed the values in the `hospitalizedIncrease` column to get the total number of hospitalized patients nationwide during that month.\\n\\n3. As a verification step, I used the `groupby` method to group the data by state and sum the `hospitalizedIncrease` for Florida and for all states, which yielded the same results.\\n\\nThe column names used in these calculations were:\\n- `hospitalizedIncrease` (to sum the increases in hospitalizations)\\n- `date` (to filter the data for July 2020)\\n- `state` (to filter for Florida and to group by state for nationwide totals)\\n\\nBoth methods confirmed the same results, ensuring the accuracy of the answer.'}"
      ]
     },
     "execution_count": 4,
     "metadata": {},
     "output_type": "execute_result"
    }
   ],
   "source": [
    "CSV_PROMPT_PREFIX = \"\"\"\n",
    "First set the pandas display options to show all the columns,\n",
    "get the column names, then answer the question.\n",
    "\"\"\"\n",
    "\n",
    "CSV_PROMPT_SUFFIX = \"\"\"\n",
    "- **ALWAYS** before giving the Final Answer, try another method.\n",
    "Then reflect on the answers of the two methods you did and ask yourself\n",
    "if it answers correctly the original question.\n",
    "If you are not sure, try another method.\n",
    "- If the methods tried do not give the same result,reflect and\n",
    "try again until you have two methods that have the same result.\n",
    "- If you still cannot arrive to a consistent result, say that\n",
    "you are not sure of the answer.\n",
    "- If you are sure of the correct answer, create a beautiful\n",
    "and thorough response using Markdown.\n",
    "- **DO NOT MAKE UP AN ANSWER OR USE PRIOR KNOWLEDGE,\n",
    "ONLY USE THE RESULTS OF THE CALCULATIONS YOU HAVE DONE**.\n",
    "- **ALWAYS**, as part of your \"Final Answer\", explain how you got\n",
    "to the answer on a section that starts with: \"\\n\\nExplanation:\\n\".\n",
    "In the explanation, mention the column names that you used to get\n",
    "to the final answer.\n",
    "\"\"\"\n",
    "\n",
    "QUESTION = \"\"\"How may patients were hospitalized during July 2020\n",
    "in Florida, and nationwide as the total of all states?\n",
    "Use the hospitalizedIncrease column\"\"\"\n",
    "\n",
    "agent.invoke(CSV_PROMPT_PREFIX + QUESTION + CSV_PROMPT_SUFFIX)"
   ]
  }
 ],
 "metadata": {
  "language_info": {
   "name": "python"
  }
 },
 "nbformat": 4,
 "nbformat_minor": 2
}
